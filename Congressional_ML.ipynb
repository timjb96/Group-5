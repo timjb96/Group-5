{
 "cells": [
  {
   "cell_type": "code",
   "execution_count": 1,
   "id": "f0480f82",
   "metadata": {},
   "outputs": [],
   "source": [
    " %matplotlib inline\n",
    "import pandas as pd\n",
    "import numpy as np\n",
    "import os\n",
    "from sklearn.linear_model import LogisticRegression\n",
    "from sklearn.metrics import confusion_matrix, classification_report"
   ]
  },
  {
   "cell_type": "code",
   "execution_count": 2,
   "id": "7933b5df",
   "metadata": {
    "scrolled": false
   },
   "outputs": [
    {
     "data": {
      "text/html": [
       "<div>\n",
       "<style scoped>\n",
       "    .dataframe tbody tr th:only-of-type {\n",
       "        vertical-align: middle;\n",
       "    }\n",
       "\n",
       "    .dataframe tbody tr th {\n",
       "        vertical-align: top;\n",
       "    }\n",
       "\n",
       "    .dataframe thead th {\n",
       "        text-align: right;\n",
       "    }\n",
       "</style>\n",
       "<table border=\"1\" class=\"dataframe\">\n",
       "  <thead>\n",
       "    <tr style=\"text-align: right;\">\n",
       "      <th></th>\n",
       "      <th>uniqueid</th>\n",
       "      <th>fullname</th>\n",
       "      <th>gender</th>\n",
       "      <th>dob</th>\n",
       "      <th>party</th>\n",
       "      <th>stateabr</th>\n",
       "      <th>district</th>\n",
       "      <th>CongressSession</th>\n",
       "      <th>AgeWhenSessionStarted</th>\n",
       "      <th>sessionstartedon</th>\n",
       "      <th>sessionendedon</th>\n",
       "      <th>twitterhandle</th>\n",
       "      <th>joinedon</th>\n",
       "      <th>AgeWhenTwitterJoined</th>\n",
       "      <th>yearjoinedontwitter</th>\n",
       "    </tr>\n",
       "  </thead>\n",
       "  <tbody>\n",
       "    <tr>\n",
       "      <th>0</th>\n",
       "      <td>McP-NC10</td>\n",
       "      <td>McHenry, Patrick T.</td>\n",
       "      <td>M</td>\n",
       "      <td>1975-11-22</td>\n",
       "      <td>Republican</td>\n",
       "      <td>NC</td>\n",
       "      <td>10</td>\n",
       "      <td>109</td>\n",
       "      <td>29</td>\n",
       "      <td>2005-01-03</td>\n",
       "      <td>2007-01-03</td>\n",
       "      <td>PatrickMcHenry</td>\n",
       "      <td>2009-03-01</td>\n",
       "      <td>33.0</td>\n",
       "      <td>2009.0</td>\n",
       "    </tr>\n",
       "    <tr>\n",
       "      <th>1</th>\n",
       "      <td>PuA-FL12</td>\n",
       "      <td>Putnam, Adam H.</td>\n",
       "      <td>M</td>\n",
       "      <td>1974-07-31</td>\n",
       "      <td>Republican</td>\n",
       "      <td>FL</td>\n",
       "      <td>12</td>\n",
       "      <td>109</td>\n",
       "      <td>30</td>\n",
       "      <td>2005-01-03</td>\n",
       "      <td>2007-01-03</td>\n",
       "      <td>adamputnam</td>\n",
       "      <td>2009-06-01</td>\n",
       "      <td>34.0</td>\n",
       "      <td>2009.0</td>\n",
       "    </tr>\n",
       "    <tr>\n",
       "      <th>2</th>\n",
       "      <td>RyT-OH13</td>\n",
       "      <td>Ryan, Tim</td>\n",
       "      <td>M</td>\n",
       "      <td>1973-07-16</td>\n",
       "      <td>Democratic</td>\n",
       "      <td>OH</td>\n",
       "      <td>13</td>\n",
       "      <td>109</td>\n",
       "      <td>31</td>\n",
       "      <td>2005-01-03</td>\n",
       "      <td>2007-01-03</td>\n",
       "      <td>RepTimRyan</td>\n",
       "      <td>2008-02-01</td>\n",
       "      <td>34.0</td>\n",
       "      <td>2008.0</td>\n",
       "    </tr>\n",
       "    <tr>\n",
       "      <th>3</th>\n",
       "      <td>BoD-OK02</td>\n",
       "      <td>Boren, Dan</td>\n",
       "      <td>M</td>\n",
       "      <td>1973-08-02</td>\n",
       "      <td>Democratic</td>\n",
       "      <td>OK</td>\n",
       "      <td>2</td>\n",
       "      <td>109</td>\n",
       "      <td>31</td>\n",
       "      <td>2005-01-03</td>\n",
       "      <td>2007-01-03</td>\n",
       "      <td>DanBorenOK</td>\n",
       "      <td>2020-04-01</td>\n",
       "      <td>46.0</td>\n",
       "      <td>2020.0</td>\n",
       "    </tr>\n",
       "    <tr>\n",
       "      <th>4</th>\n",
       "      <td>NuD-CA22</td>\n",
       "      <td>Nunes, Devin</td>\n",
       "      <td>M</td>\n",
       "      <td>1973-10-01</td>\n",
       "      <td>Republican</td>\n",
       "      <td>CA</td>\n",
       "      <td>22</td>\n",
       "      <td>109</td>\n",
       "      <td>31</td>\n",
       "      <td>2005-01-03</td>\n",
       "      <td>2007-01-03</td>\n",
       "      <td>DevinNunes</td>\n",
       "      <td>2009-07-01</td>\n",
       "      <td>35.0</td>\n",
       "      <td>2009.0</td>\n",
       "    </tr>\n",
       "  </tbody>\n",
       "</table>\n",
       "</div>"
      ],
      "text/plain": [
       "   uniqueid             fullname gender         dob       party stateabr  \\\n",
       "0  McP-NC10  McHenry, Patrick T.      M  1975-11-22  Republican       NC   \n",
       "1  PuA-FL12      Putnam, Adam H.      M  1974-07-31  Republican       FL   \n",
       "2  RyT-OH13            Ryan, Tim      M  1973-07-16  Democratic       OH   \n",
       "3  BoD-OK02           Boren, Dan      M  1973-08-02  Democratic       OK   \n",
       "4  NuD-CA22         Nunes, Devin      M  1973-10-01  Republican       CA   \n",
       "\n",
       "   district  CongressSession  AgeWhenSessionStarted sessionstartedon  \\\n",
       "0        10              109                     29       2005-01-03   \n",
       "1        12              109                     30       2005-01-03   \n",
       "2        13              109                     31       2005-01-03   \n",
       "3         2              109                     31       2005-01-03   \n",
       "4        22              109                     31       2005-01-03   \n",
       "\n",
       "  sessionendedon   twitterhandle    joinedon  AgeWhenTwitterJoined  \\\n",
       "0     2007-01-03  PatrickMcHenry  2009-03-01                  33.0   \n",
       "1     2007-01-03      adamputnam  2009-06-01                  34.0   \n",
       "2     2007-01-03      RepTimRyan  2008-02-01                  34.0   \n",
       "3     2007-01-03      DanBorenOK  2020-04-01                  46.0   \n",
       "4     2007-01-03      DevinNunes  2009-07-01                  35.0   \n",
       "\n",
       "   yearjoinedontwitter  \n",
       "0               2009.0  \n",
       "1               2009.0  \n",
       "2               2008.0  \n",
       "3               2020.0  \n",
       "4               2009.0  "
      ]
     },
     "execution_count": 2,
     "metadata": {},
     "output_type": "execute_result"
    }
   ],
   "source": [
    "#congressional_db = pd.read_csv('../Resources/.csv', header=None, names=[])\n",
    "#congressional_db.head()\n",
    "congdf = pd.read_csv('Resources/housesessions109_118.csv')\n",
    "congdf.head()"
   ]
  },
  {
   "cell_type": "code",
   "execution_count": 3,
   "id": "116e7956",
   "metadata": {},
   "outputs": [
    {
     "data": {
      "text/plain": [
       "M    3519\n",
       "F     927\n",
       "f       4\n",
       "Name: gender, dtype: int64"
      ]
     },
     "execution_count": 3,
     "metadata": {},
     "output_type": "execute_result"
    }
   ],
   "source": [
    "#Clean Values\n",
    "#Check Gender values\n",
    "congdf['gender'].value_counts()"
   ]
  },
  {
   "cell_type": "code",
   "execution_count": 4,
   "id": "4b1ddc62",
   "metadata": {},
   "outputs": [],
   "source": [
    "#Change Gender to Numerical Values (Male = 0),(Female = 1)\n",
    "congdf['gender'] = congdf['gender'].replace(['M','F','f'],[0,1,1])"
   ]
  },
  {
   "cell_type": "code",
   "execution_count": 5,
   "id": "18255015",
   "metadata": {},
   "outputs": [
    {
     "data": {
      "text/plain": [
       "Republican     2237\n",
       "Democratic     2202\n",
       "Independent       6\n",
       "Libertarian       5\n",
       "Name: party, dtype: int64"
      ]
     },
     "execution_count": 5,
     "metadata": {},
     "output_type": "execute_result"
    }
   ],
   "source": [
    "#Check party values\n",
    "congdf['party'].value_counts()"
   ]
  },
  {
   "cell_type": "code",
   "execution_count": 6,
   "id": "e461b0a8",
   "metadata": {},
   "outputs": [],
   "source": [
    "#Change Party (Republican = 0),(Democrat = 1),(Independent = 2),(Libertarian = 3)\n",
    "congdf['party'] = congdf['party'].replace(['Republican','Democratic','Independent','Libertarian'],[0,1,2,3])"
   ]
  },
  {
   "cell_type": "code",
   "execution_count": 7,
   "id": "8f0a4df3",
   "metadata": {},
   "outputs": [],
   "source": [
    "#Set gender and party as int\n",
    "congdf = congdf.astype({'gender':'int','party':'int'})"
   ]
  },
  {
   "cell_type": "code",
   "execution_count": 8,
   "id": "9c5d3a5a",
   "metadata": {},
   "outputs": [],
   "source": [
    "#Separate into raw DataFrames by CongressSession\n",
    "c109rawdf = congdf.loc[congdf['CongressSession']==109]\n",
    "c110rawdf = congdf.loc[congdf['CongressSession']==110]\n",
    "c111rawdf = congdf.loc[congdf['CongressSession']==111]\n",
    "c112rawdf = congdf.loc[congdf['CongressSession']==112]\n",
    "c113rawdf = congdf.loc[congdf['CongressSession']==113]\n",
    "c114rawdf = congdf.loc[congdf['CongressSession']==114]\n",
    "c115rawdf = congdf.loc[congdf['CongressSession']==115]\n",
    "c116rawdf = congdf.loc[congdf['CongressSession']==116]\n",
    "c117rawdf = congdf.loc[congdf['CongressSession']==117]\n",
    "c118rawdf = congdf.loc[congdf['CongressSession']==118]\n"
   ]
  },
  {
   "cell_type": "code",
   "execution_count": 9,
   "id": "f7459190",
   "metadata": {},
   "outputs": [],
   "source": [
    "#Create Blank Series for Session 109 Twitter Existence\n",
    "c109twitdf=[]\n",
    "for i in range(len(c109rawdf)):\n",
    "    #Check if Creation Date is null\n",
    "    if pd.isna(c109rawdf.iloc[i,12]):\n",
    "        c109twitdf.append(0)\n",
    "    else:\n",
    "        #If date joined before end of session\n",
    "        if c109rawdf.iloc[i,12]<c109rawdf.iloc[i,10]:\n",
    "            #Add Success (1) to series\n",
    "            c109twitdf.append(1)\n",
    "        #Join date is after end of session, meaning twitter account didn't exist\n",
    "        else:\n",
    "            c109twitdf.append(0)"
   ]
  },
  {
   "cell_type": "code",
   "execution_count": 10,
   "id": "d7268bc2",
   "metadata": {},
   "outputs": [
    {
     "data": {
      "text/plain": [
       "0    444\n",
       "dtype: int64"
      ]
     },
     "execution_count": 10,
     "metadata": {},
     "output_type": "execute_result"
    }
   ],
   "source": [
    "#Check Distribution of Twitter Accounts\n",
    "pd.Series(c109twitdf).value_counts()"
   ]
  },
  {
   "cell_type": "code",
   "execution_count": 11,
   "id": "8cadf417",
   "metadata": {},
   "outputs": [
    {
     "data": {
      "text/plain": [
       "0    390\n",
       "1     55\n",
       "dtype: int64"
      ]
     },
     "execution_count": 11,
     "metadata": {},
     "output_type": "execute_result"
    }
   ],
   "source": [
    "#Same Steps for Session 110\n",
    "c110twitdf=[]\n",
    "for i in range(len(c110rawdf)):\n",
    "    #Check if Creation Date is null\n",
    "    if pd.isna(c110rawdf.iloc[i,12]):\n",
    "        c110twitdf.append(0)\n",
    "    else:\n",
    "        #If date joined before end of session\n",
    "        if c110rawdf.iloc[i,12]<c110rawdf.iloc[i,10]:\n",
    "            #Add Success (1) to series\n",
    "            c110twitdf.append(1)\n",
    "        #Join date is after end of session, meaning twitter account didn't exist\n",
    "        else:\n",
    "            c110twitdf.append(0)\n",
    "#Check Distribution of Twitter Accounts\n",
    "pd.Series(c110twitdf).value_counts()"
   ]
  },
  {
   "cell_type": "code",
   "execution_count": 12,
   "id": "8886750f",
   "metadata": {},
   "outputs": [
    {
     "data": {
      "text/plain": [
       "1    245\n",
       "0    202\n",
       "dtype: int64"
      ]
     },
     "execution_count": 12,
     "metadata": {},
     "output_type": "execute_result"
    }
   ],
   "source": [
    "#Session 111\n",
    "c111twitdf=[]\n",
    "for i in range(len(c111rawdf)):\n",
    "    #Check if Creation Date is null\n",
    "    if pd.isna(c111rawdf.iloc[i,12]):\n",
    "        c111twitdf.append(0)\n",
    "    else:\n",
    "        #If date joined before end of session\n",
    "        if c111rawdf.iloc[i,12]<c111rawdf.iloc[i,10]:\n",
    "            #Add Success (1) to series\n",
    "            c111twitdf.append(1)\n",
    "        #Join date is after end of session, meaning twitter account didn't exist\n",
    "        else:\n",
    "            c111twitdf.append(0)\n",
    "#Check Distribution of Twitter Accounts\n",
    "pd.Series(c111twitdf).value_counts()"
   ]
  },
  {
   "cell_type": "code",
   "execution_count": 13,
   "id": "7dc1fe04",
   "metadata": {},
   "outputs": [],
   "source": [
    "#Cleaning Training Data for 111\n",
    "#Combining previous years\n",
    "c111traindf = c109rawdf.append(c110rawdf, ignore_index=True)\n",
    "#Drop duplicates, keeping most recent entries\n",
    "c111traindf = c111traindf.drop_duplicates(subset=['uniqueid'],keep='last')\n",
    "#Create corresponding success series\n",
    "c111traintwitdf=[]\n",
    "for i in range(len(c111traindf)):\n",
    "    #Check if Creation Date is null\n",
    "    if pd.isna(c111traindf.iloc[i,12]):\n",
    "        c111traintwitdf.append(0)\n",
    "    else:\n",
    "        #If date joined before end of session\n",
    "        if c111traindf.iloc[i,12]<c111traindf.iloc[i,10]:\n",
    "            #Add Success\n",
    "            c111traintwitdf.append(1)\n",
    "            #Correct Age in training set\n",
    "            c111traindf.iloc[i,8]=c111traindf.iloc[i,13]\n",
    "        else:\n",
    "            c111traintwitdf.append(0)"
   ]
  },
  {
   "cell_type": "code",
   "execution_count": 14,
   "id": "f1ac2aff",
   "metadata": {},
   "outputs": [
    {
     "name": "stdout",
     "output_type": "stream",
     "text": [
      "Training Data Score: 0.892578125\n",
      "Testing Data Score: 0.4519015659955257\n"
     ]
    },
    {
     "data": {
      "text/plain": [
       "0    457\n",
       "1     55\n",
       "dtype: int64"
      ]
     },
     "execution_count": 14,
     "metadata": {},
     "output_type": "execute_result"
    }
   ],
   "source": [
    "#Isolate Relevant Data for Training and Testing\n",
    "c111train = c111traindf[['gender','party','AgeWhenSessionStarted']]\n",
    "c111test = c111rawdf[['gender','party','AgeWhenSessionStarted']]\n",
    "#Create Logistic Regression Model\n",
    "classifier111= LogisticRegression(max_iter = 10000)\n",
    "#Train Model\n",
    "classifier111.fit(c111train,c111traintwitdf)\n",
    "#Validate Model\n",
    "print(f\"Training Data Score: {classifier111.score(c111train,c111traintwitdf)}\")\n",
    "print(f\"Testing Data Score: {classifier111.score(c111test,c111twitdf)}\")\n",
    "pd.Series(c111traintwitdf).value_counts()"
   ]
  },
  {
   "cell_type": "code",
   "execution_count": 15,
   "id": "091f5b20",
   "metadata": {},
   "outputs": [
    {
     "data": {
      "text/html": [
       "<div>\n",
       "<style scoped>\n",
       "    .dataframe tbody tr th:only-of-type {\n",
       "        vertical-align: middle;\n",
       "    }\n",
       "\n",
       "    .dataframe tbody tr th {\n",
       "        vertical-align: top;\n",
       "    }\n",
       "\n",
       "    .dataframe thead th {\n",
       "        text-align: right;\n",
       "    }\n",
       "</style>\n",
       "<table border=\"1\" class=\"dataframe\">\n",
       "  <thead>\n",
       "    <tr style=\"text-align: right;\">\n",
       "      <th></th>\n",
       "      <th>Predicted 0</th>\n",
       "      <th>Predicted 1</th>\n",
       "    </tr>\n",
       "  </thead>\n",
       "  <tbody>\n",
       "    <tr>\n",
       "      <th>Actual 0</th>\n",
       "      <td>202</td>\n",
       "      <td>0</td>\n",
       "    </tr>\n",
       "    <tr>\n",
       "      <th>Actual 1</th>\n",
       "      <td>245</td>\n",
       "      <td>0</td>\n",
       "    </tr>\n",
       "  </tbody>\n",
       "</table>\n",
       "</div>"
      ],
      "text/plain": [
       "          Predicted 0  Predicted 1\n",
       "Actual 0          202            0\n",
       "Actual 1          245            0"
      ]
     },
     "execution_count": 15,
     "metadata": {},
     "output_type": "execute_result"
    }
   ],
   "source": [
    "#Create Confusion Matrix for Session 111\n",
    "true111 = c111twitdf\n",
    "pred111 = classifier111.predict(c111test)\n",
    "cm111 = confusion_matrix(true111,pred111)\n",
    "#Turn into DataFrame\n",
    "cm111df = pd.DataFrame(cm111,index=[\"Actual 0\", \"Actual 1\"], columns=[\"Predicted 0\", \"Predicted 1\"])\n",
    "cm111df"
   ]
  },
  {
   "cell_type": "code",
   "execution_count": 16,
   "id": "a3822037",
   "metadata": {},
   "outputs": [
    {
     "name": "stdout",
     "output_type": "stream",
     "text": [
      "Precision: nan\n",
      "Sensitvity:0.0\n",
      "              precision    recall  f1-score   support\n",
      "\n",
      "           0       0.45      1.00      0.62       202\n",
      "           1       0.00      0.00      0.00       245\n",
      "\n",
      "    accuracy                           0.45       447\n",
      "   macro avg       0.23      0.50      0.31       447\n",
      "weighted avg       0.20      0.45      0.28       447\n",
      "\n"
     ]
    },
    {
     "name": "stderr",
     "output_type": "stream",
     "text": [
      "C:\\Users\\micha\\anaconda3\\envs\\mlenv\\lib\\site-packages\\ipykernel_launcher.py:3: RuntimeWarning: invalid value encountered in longlong_scalars\n",
      "  This is separate from the ipykernel package so we can avoid doing imports until\n",
      "C:\\Users\\micha\\anaconda3\\envs\\mlenv\\lib\\site-packages\\sklearn\\metrics\\_classification.py:1318: UndefinedMetricWarning: Precision and F-score are ill-defined and being set to 0.0 in labels with no predicted samples. Use `zero_division` parameter to control this behavior.\n",
      "  _warn_prf(average, modifier, msg_start, len(result))\n",
      "C:\\Users\\micha\\anaconda3\\envs\\mlenv\\lib\\site-packages\\sklearn\\metrics\\_classification.py:1318: UndefinedMetricWarning: Precision and F-score are ill-defined and being set to 0.0 in labels with no predicted samples. Use `zero_division` parameter to control this behavior.\n",
      "  _warn_prf(average, modifier, msg_start, len(result))\n",
      "C:\\Users\\micha\\anaconda3\\envs\\mlenv\\lib\\site-packages\\sklearn\\metrics\\_classification.py:1318: UndefinedMetricWarning: Precision and F-score are ill-defined and being set to 0.0 in labels with no predicted samples. Use `zero_division` parameter to control this behavior.\n",
      "  _warn_prf(average, modifier, msg_start, len(result))\n"
     ]
    }
   ],
   "source": [
    "tn,fp,fn,tp = cm111df.values.ravel()\n",
    "#Precision\n",
    "print(f\"Precision: {tp/(tp+fp)}\")\n",
    "#Sensitivity\n",
    "print(f\"Sensitvity:{tp/(tp+fn)}\")\n",
    "#F1\n",
    "print(classification_report(true111,pred111))"
   ]
  },
  {
   "cell_type": "code",
   "execution_count": 17,
   "id": "f57a602a",
   "metadata": {},
   "outputs": [
    {
     "name": "stdout",
     "output_type": "stream",
     "text": [
      "Training Data Score: 0.8764044943820225\n",
      "Testing Data Score: 0.4519015659955257\n"
     ]
    }
   ],
   "source": [
    "#Tossing out Session 109\n",
    "#Isolate Relevant Data for Training and Testing\n",
    "c111train2 = c110rawdf[['gender','party','AgeWhenSessionStarted']]\n",
    "#Test Data is already set from earlier\n",
    "#Create new Logistic Regression\n",
    "classifier111v2= LogisticRegression(max_iter = 10000)\n",
    "#Train Model\n",
    "classifier111v2.fit(c111train2,c110twitdf)\n",
    "#Validate Model\n",
    "print(f\"Training Data Score: {classifier111v2.score(c111train2,c110twitdf)}\")\n",
    "print(f\"Testing Data Score: {classifier111v2.score(c111test,c111twitdf)}\")"
   ]
  },
  {
   "cell_type": "code",
   "execution_count": 18,
   "id": "f0d16659",
   "metadata": {},
   "outputs": [
    {
     "data": {
      "text/html": [
       "<div>\n",
       "<style scoped>\n",
       "    .dataframe tbody tr th:only-of-type {\n",
       "        vertical-align: middle;\n",
       "    }\n",
       "\n",
       "    .dataframe tbody tr th {\n",
       "        vertical-align: top;\n",
       "    }\n",
       "\n",
       "    .dataframe thead th {\n",
       "        text-align: right;\n",
       "    }\n",
       "</style>\n",
       "<table border=\"1\" class=\"dataframe\">\n",
       "  <thead>\n",
       "    <tr style=\"text-align: right;\">\n",
       "      <th></th>\n",
       "      <th>Predicted 0</th>\n",
       "      <th>Predicted 1</th>\n",
       "    </tr>\n",
       "  </thead>\n",
       "  <tbody>\n",
       "    <tr>\n",
       "      <th>Actual 0</th>\n",
       "      <td>202</td>\n",
       "      <td>0</td>\n",
       "    </tr>\n",
       "    <tr>\n",
       "      <th>Actual 1</th>\n",
       "      <td>245</td>\n",
       "      <td>0</td>\n",
       "    </tr>\n",
       "  </tbody>\n",
       "</table>\n",
       "</div>"
      ],
      "text/plain": [
       "          Predicted 0  Predicted 1\n",
       "Actual 0          202            0\n",
       "Actual 1          245            0"
      ]
     },
     "execution_count": 18,
     "metadata": {},
     "output_type": "execute_result"
    }
   ],
   "source": [
    "#Create Confusion Matrix for Session 111\n",
    "true111v2 = c111twitdf\n",
    "pred111v2 = classifier111.predict(c111test)\n",
    "cm111v2 = confusion_matrix(true111v2,pred111v2)\n",
    "#Turn into DataFrame\n",
    "cm111v2df = pd.DataFrame(cm111,index=[\"Actual 0\", \"Actual 1\"], columns=[\"Predicted 0\", \"Predicted 1\"])\n",
    "cm111v2df"
   ]
  },
  {
   "cell_type": "code",
   "execution_count": 19,
   "id": "b1a192b8",
   "metadata": {},
   "outputs": [
    {
     "data": {
      "text/plain": [
       "1    354\n",
       "0     92\n",
       "dtype: int64"
      ]
     },
     "execution_count": 19,
     "metadata": {},
     "output_type": "execute_result"
    }
   ],
   "source": [
    "#Session 112\n",
    "c112twitdf=[]\n",
    "for i in range(len(c112rawdf)):\n",
    "    #Check if Creation Date is null\n",
    "    if pd.isna(c112rawdf.iloc[i,12]):\n",
    "        c112twitdf.append(0)\n",
    "    else:\n",
    "        #If date joined before end of session\n",
    "        if c112rawdf.iloc[i,12]<c112rawdf.iloc[i,10]:\n",
    "            #Add Success (1) to series\n",
    "            c112twitdf.append(1)\n",
    "        #Join date is after end of session, meaning twitter account didn't exist\n",
    "        else:\n",
    "            c112twitdf.append(0)\n",
    "#Check Distribution of Twitter Accounts\n",
    "pd.Series(c112twitdf).value_counts()"
   ]
  },
  {
   "cell_type": "code",
   "execution_count": 20,
   "id": "0b2bfbd7",
   "metadata": {},
   "outputs": [],
   "source": [
    "#Cleaning Training Data for 112\n",
    "#Add Session 111 to training data\n",
    "c112traindf = c111traindf.append(c111rawdf, ignore_index=True)\n",
    "#Drop duplicates, keeping most recent entries\n",
    "c112traindf = c112traindf.drop_duplicates(subset=['uniqueid'],keep='last')\n",
    "#Create corresponding success series\n",
    "c112traintwitdf=[]\n",
    "for i in range(len(c112traindf)):\n",
    "    #Check if Creation Date is null\n",
    "    if pd.isna(c112traindf.iloc[i,12]):\n",
    "        c112traintwitdf.append(0)\n",
    "    else:\n",
    "        #If date joined before end of session\n",
    "        if c112traindf.iloc[i,12]<c112traindf.iloc[i,10]:\n",
    "            #Add Success\n",
    "            c112traintwitdf.append(1)\n",
    "            #Correct Age in training set\n",
    "            c112traindf.iloc[i,8]=c112traindf.iloc[i,13]\n",
    "        else:\n",
    "            c112traintwitdf.append(0)"
   ]
  },
  {
   "cell_type": "code",
   "execution_count": 21,
   "id": "856717f1",
   "metadata": {},
   "outputs": [
    {
     "name": "stdout",
     "output_type": "stream",
     "text": [
      "Training Data Score: 0.5716753022452504\n",
      "Testing Data Score: 0.21973094170403587\n"
     ]
    }
   ],
   "source": [
    "#Isolate Relevant Data for Training and Testing\n",
    "c112train = c112traindf[['gender','party','AgeWhenSessionStarted']]\n",
    "c112test = c112rawdf[['gender','party','AgeWhenSessionStarted']]\n",
    "#Create Logistic Regression Model\n",
    "classifier112= LogisticRegression(max_iter = 10000)\n",
    "#Train Model\n",
    "classifier112.fit(c112train,c112traintwitdf)\n",
    "#Validate Model\n",
    "print(f\"Training Data Score: {classifier112.score(c112train,c112traintwitdf)}\")\n",
    "print(f\"Testing Data Score: {classifier112.score(c112test,c112twitdf)}\")"
   ]
  },
  {
   "cell_type": "code",
   "execution_count": 22,
   "id": "46091031",
   "metadata": {},
   "outputs": [
    {
     "data": {
      "text/html": [
       "<div>\n",
       "<style scoped>\n",
       "    .dataframe tbody tr th:only-of-type {\n",
       "        vertical-align: middle;\n",
       "    }\n",
       "\n",
       "    .dataframe tbody tr th {\n",
       "        vertical-align: top;\n",
       "    }\n",
       "\n",
       "    .dataframe thead th {\n",
       "        text-align: right;\n",
       "    }\n",
       "</style>\n",
       "<table border=\"1\" class=\"dataframe\">\n",
       "  <thead>\n",
       "    <tr style=\"text-align: right;\">\n",
       "      <th></th>\n",
       "      <th>Predicted 0</th>\n",
       "      <th>Predicted 1</th>\n",
       "    </tr>\n",
       "  </thead>\n",
       "  <tbody>\n",
       "    <tr>\n",
       "      <th>Actual 0</th>\n",
       "      <td>91</td>\n",
       "      <td>1</td>\n",
       "    </tr>\n",
       "    <tr>\n",
       "      <th>Actual 1</th>\n",
       "      <td>347</td>\n",
       "      <td>7</td>\n",
       "    </tr>\n",
       "  </tbody>\n",
       "</table>\n",
       "</div>"
      ],
      "text/plain": [
       "          Predicted 0  Predicted 1\n",
       "Actual 0           91            1\n",
       "Actual 1          347            7"
      ]
     },
     "execution_count": 22,
     "metadata": {},
     "output_type": "execute_result"
    }
   ],
   "source": [
    "#Confusion Matrix\n",
    "true112 = c112twitdf\n",
    "pred112 = classifier112.predict(c112test)\n",
    "cm112 = confusion_matrix(true112,pred112)\n",
    "#Turn into DataFrame\n",
    "cm112df = pd.DataFrame(cm112,index=[\"Actual 0\", \"Actual 1\"], columns=[\"Predicted 0\", \"Predicted 1\"])\n",
    "cm112df"
   ]
  },
  {
   "cell_type": "code",
   "execution_count": 23,
   "id": "70046ca9",
   "metadata": {},
   "outputs": [
    {
     "name": "stdout",
     "output_type": "stream",
     "text": [
      "Precision: 0.875\n",
      "Sensitvity:0.01977401129943503\n",
      "              precision    recall  f1-score   support\n",
      "\n",
      "           0       0.21      0.99      0.34        92\n",
      "           1       0.88      0.02      0.04       354\n",
      "\n",
      "    accuracy                           0.22       446\n",
      "   macro avg       0.54      0.50      0.19       446\n",
      "weighted avg       0.74      0.22      0.10       446\n",
      "\n"
     ]
    }
   ],
   "source": [
    "tn,fp,fn,tp = cm112df.values.ravel()\n",
    "#Precision\n",
    "print(f\"Precision: {tp/(tp+fp)}\")\n",
    "#Sensitivity\n",
    "print(f\"Sensitvity:{tp/(tp+fn)}\")\n",
    "#F1\n",
    "print(classification_report(true112,pred112))"
   ]
  },
  {
   "cell_type": "code",
   "execution_count": 24,
   "id": "2f3196f2",
   "metadata": {},
   "outputs": [
    {
     "data": {
      "text/plain": [
       "1    397\n",
       "0     48\n",
       "dtype: int64"
      ]
     },
     "execution_count": 24,
     "metadata": {},
     "output_type": "execute_result"
    }
   ],
   "source": [
    "#Session 113\n",
    "c113twitdf=[]\n",
    "for i in range(len(c113rawdf)):\n",
    "    #Check if Creation Date is null\n",
    "    if pd.isna(c113rawdf.iloc[i,12]):\n",
    "        c113twitdf.append(0)\n",
    "    else:\n",
    "        #If date joined before end of session\n",
    "        if c113rawdf.iloc[i,12]<c113rawdf.iloc[i,10]:\n",
    "            #Add Success (1) to series\n",
    "            c113twitdf.append(1)\n",
    "        #Join date is after end of session, meaning twitter account didn't exist\n",
    "        else:\n",
    "            c113twitdf.append(0)\n",
    "#Check Distribution of Twitter Accounts\n",
    "pd.Series(c113twitdf).value_counts()"
   ]
  },
  {
   "cell_type": "code",
   "execution_count": 25,
   "id": "dcb851c6",
   "metadata": {},
   "outputs": [],
   "source": [
    "#Cleaning Training Data for 113\n",
    "#Add Session 112 to training data\n",
    "c113traindf = c112traindf.append(c112rawdf, ignore_index=True)\n",
    "#Drop duplicates, keeping most recent entries\n",
    "c113traindf = c113traindf.drop_duplicates(subset=['uniqueid'],keep='last')\n",
    "#Create corresponding success series\n",
    "c113traintwitdf=[]\n",
    "for i in range(len(c113traindf)):\n",
    "    #Check if Creation Date is null\n",
    "    if pd.isna(c113traindf.iloc[i,12]):\n",
    "        c113traintwitdf.append(0)\n",
    "    else:\n",
    "        #If date joined before end of session\n",
    "        if c113traindf.iloc[i,12]<c113traindf.iloc[i,10]:\n",
    "            #Add Success\n",
    "            c113traintwitdf.append(1)\n",
    "            #Correct Age in training set\n",
    "            c113traindf.iloc[i,8]=c113traindf.iloc[i,13]\n",
    "        else:\n",
    "            c113traintwitdf.append(0)"
   ]
  },
  {
   "cell_type": "code",
   "execution_count": 26,
   "id": "e1178880",
   "metadata": {},
   "outputs": [
    {
     "name": "stdout",
     "output_type": "stream",
     "text": [
      "Training Data Score: 0.5899705014749262\n",
      "Testing Data Score: 0.8561797752808988\n"
     ]
    }
   ],
   "source": [
    "#Isolate Relevant Data for Training and Testing\n",
    "c113train = c113traindf[['gender','party','AgeWhenSessionStarted']]\n",
    "c113test = c113rawdf[['gender','party','AgeWhenSessionStarted']]\n",
    "#Create Logistic Regression Model\n",
    "classifier113= LogisticRegression(max_iter = 10000)\n",
    "#Train Model\n",
    "classifier113.fit(c113train,c113traintwitdf)\n",
    "#Validate Model\n",
    "print(f\"Training Data Score: {classifier113.score(c113train,c113traintwitdf)}\")\n",
    "print(f\"Testing Data Score: {classifier113.score(c113test,c113twitdf)}\")"
   ]
  },
  {
   "cell_type": "code",
   "execution_count": 27,
   "id": "14d7731c",
   "metadata": {},
   "outputs": [
    {
     "data": {
      "text/html": [
       "<div>\n",
       "<style scoped>\n",
       "    .dataframe tbody tr th:only-of-type {\n",
       "        vertical-align: middle;\n",
       "    }\n",
       "\n",
       "    .dataframe tbody tr th {\n",
       "        vertical-align: top;\n",
       "    }\n",
       "\n",
       "    .dataframe thead th {\n",
       "        text-align: right;\n",
       "    }\n",
       "</style>\n",
       "<table border=\"1\" class=\"dataframe\">\n",
       "  <thead>\n",
       "    <tr style=\"text-align: right;\">\n",
       "      <th></th>\n",
       "      <th>Predicted 0</th>\n",
       "      <th>Predicted 1</th>\n",
       "    </tr>\n",
       "  </thead>\n",
       "  <tbody>\n",
       "    <tr>\n",
       "      <th>Actual 0</th>\n",
       "      <td>4</td>\n",
       "      <td>44</td>\n",
       "    </tr>\n",
       "    <tr>\n",
       "      <th>Actual 1</th>\n",
       "      <td>20</td>\n",
       "      <td>377</td>\n",
       "    </tr>\n",
       "  </tbody>\n",
       "</table>\n",
       "</div>"
      ],
      "text/plain": [
       "          Predicted 0  Predicted 1\n",
       "Actual 0            4           44\n",
       "Actual 1           20          377"
      ]
     },
     "execution_count": 27,
     "metadata": {},
     "output_type": "execute_result"
    }
   ],
   "source": [
    "#Confusion Matrix\n",
    "true113 = c113twitdf\n",
    "pred113 = classifier113.predict(c113test)\n",
    "cm113 = confusion_matrix(true113,pred113)\n",
    "#Turn into DataFrame\n",
    "cm113df = pd.DataFrame(cm113,index=[\"Actual 0\", \"Actual 1\"], columns=[\"Predicted 0\", \"Predicted 1\"])\n",
    "cm113df"
   ]
  },
  {
   "cell_type": "code",
   "execution_count": 28,
   "id": "8af03b84",
   "metadata": {},
   "outputs": [
    {
     "name": "stdout",
     "output_type": "stream",
     "text": [
      "Precision: 0.8954869358669834\n",
      "Sensitvity:0.9496221662468514\n",
      "              precision    recall  f1-score   support\n",
      "\n",
      "           0       0.17      0.08      0.11        48\n",
      "           1       0.90      0.95      0.92       397\n",
      "\n",
      "    accuracy                           0.86       445\n",
      "   macro avg       0.53      0.52      0.52       445\n",
      "weighted avg       0.82      0.86      0.83       445\n",
      "\n"
     ]
    }
   ],
   "source": [
    "tn,fp,fn,tp = cm113df.values.ravel()\n",
    "#Precision\n",
    "print(f\"Precision: {tp/(tp+fp)}\")\n",
    "#Sensitivity\n",
    "print(f\"Sensitvity:{tp/(tp+fn)}\")\n",
    "#F1\n",
    "print(classification_report(true113,pred113))"
   ]
  },
  {
   "cell_type": "code",
   "execution_count": 29,
   "id": "f2cd7480",
   "metadata": {},
   "outputs": [
    {
     "data": {
      "text/plain": [
       "1    410\n",
       "0     34\n",
       "dtype: int64"
      ]
     },
     "execution_count": 29,
     "metadata": {},
     "output_type": "execute_result"
    }
   ],
   "source": [
    "#Session 114\n",
    "c114twitdf=[]\n",
    "for i in range(len(c114rawdf)):\n",
    "    #Check if Creation Date is null\n",
    "    if pd.isna(c114rawdf.iloc[i,12]):\n",
    "        c114twitdf.append(0)\n",
    "    else:\n",
    "        #If date joined before end of session\n",
    "        if c114rawdf.iloc[i,12]<c114rawdf.iloc[i,10]:\n",
    "            #Add Success (1) to series\n",
    "            c114twitdf.append(1)\n",
    "        #Join date is after end of session, meaning twitter account didn't exist\n",
    "        else:\n",
    "            c114twitdf.append(0)\n",
    "#Check Distribution of Twitter Accounts\n",
    "pd.Series(c114twitdf).value_counts()"
   ]
  },
  {
   "cell_type": "code",
   "execution_count": 30,
   "id": "684e1650",
   "metadata": {},
   "outputs": [
    {
     "name": "stdout",
     "output_type": "stream",
     "text": [
      "Training Data Score: 0.6426701570680629\n",
      "Testing Data Score: 0.8918918918918919\n"
     ]
    }
   ],
   "source": [
    "#Cleaning Training Data for 114\n",
    "#Add Session 113 to training data\n",
    "c114traindf = c113traindf.append(c113rawdf, ignore_index=True)\n",
    "#Drop duplicates, keeping most recent entries\n",
    "c114traindf = c114traindf.drop_duplicates(subset=['uniqueid'],keep='last')\n",
    "#Create corresponding success series\n",
    "c114traintwitdf=[]\n",
    "for i in range(len(c114traindf)):\n",
    "    #Check if Creation Date is null\n",
    "    if pd.isna(c114traindf.iloc[i,12]):\n",
    "        c114traintwitdf.append(0)\n",
    "    else:\n",
    "        #If date joined before end of session\n",
    "        if c114traindf.iloc[i,12]<c114traindf.iloc[i,10]:\n",
    "            #Add Success\n",
    "            c114traintwitdf.append(1)\n",
    "            #Correct Age in training set\n",
    "            c114traindf.iloc[i,8]=c114traindf.iloc[i,13]\n",
    "        else:\n",
    "            c114traintwitdf.append(0)\n",
    "#Isolate Relevant Data for Training and Testing\n",
    "c114train = c114traindf[['gender','party','AgeWhenSessionStarted']]\n",
    "c114test = c114rawdf[['gender','party','AgeWhenSessionStarted']]\n",
    "#Create Logistic Regression Model\n",
    "classifier114= LogisticRegression(max_iter = 10000)\n",
    "#Train Model\n",
    "classifier114.fit(c114train,c114traintwitdf)\n",
    "#Validate Model\n",
    "print(f\"Training Data Score: {classifier114.score(c114train,c114traintwitdf)}\")\n",
    "print(f\"Testing Data Score: {classifier114.score(c114test,c114twitdf)}\")"
   ]
  },
  {
   "cell_type": "code",
   "execution_count": 31,
   "id": "50af571a",
   "metadata": {},
   "outputs": [
    {
     "data": {
      "text/html": [
       "<div>\n",
       "<style scoped>\n",
       "    .dataframe tbody tr th:only-of-type {\n",
       "        vertical-align: middle;\n",
       "    }\n",
       "\n",
       "    .dataframe tbody tr th {\n",
       "        vertical-align: top;\n",
       "    }\n",
       "\n",
       "    .dataframe thead th {\n",
       "        text-align: right;\n",
       "    }\n",
       "</style>\n",
       "<table border=\"1\" class=\"dataframe\">\n",
       "  <thead>\n",
       "    <tr style=\"text-align: right;\">\n",
       "      <th></th>\n",
       "      <th>Predicted 0</th>\n",
       "      <th>Predicted 1</th>\n",
       "    </tr>\n",
       "  </thead>\n",
       "  <tbody>\n",
       "    <tr>\n",
       "      <th>Actual 0</th>\n",
       "      <td>2</td>\n",
       "      <td>32</td>\n",
       "    </tr>\n",
       "    <tr>\n",
       "      <th>Actual 1</th>\n",
       "      <td>16</td>\n",
       "      <td>394</td>\n",
       "    </tr>\n",
       "  </tbody>\n",
       "</table>\n",
       "</div>"
      ],
      "text/plain": [
       "          Predicted 0  Predicted 1\n",
       "Actual 0            2           32\n",
       "Actual 1           16          394"
      ]
     },
     "execution_count": 31,
     "metadata": {},
     "output_type": "execute_result"
    }
   ],
   "source": [
    "#Confusion Matrix\n",
    "true114 = c114twitdf\n",
    "pred114 = classifier114.predict(c114test)\n",
    "cm114 = confusion_matrix(true114,pred114)\n",
    "#Turn into DataFrame\n",
    "cm114df = pd.DataFrame(cm114,index=[\"Actual 0\", \"Actual 1\"], columns=[\"Predicted 0\", \"Predicted 1\"])\n",
    "cm114df"
   ]
  },
  {
   "cell_type": "code",
   "execution_count": 32,
   "id": "4501fd08",
   "metadata": {},
   "outputs": [
    {
     "name": "stdout",
     "output_type": "stream",
     "text": [
      "Precision: 0.9248826291079812\n",
      "Sensitvity:0.9609756097560975\n",
      "              precision    recall  f1-score   support\n",
      "\n",
      "           0       0.11      0.06      0.08        34\n",
      "           1       0.92      0.96      0.94       410\n",
      "\n",
      "    accuracy                           0.89       444\n",
      "   macro avg       0.52      0.51      0.51       444\n",
      "weighted avg       0.86      0.89      0.88       444\n",
      "\n"
     ]
    }
   ],
   "source": [
    "tn,fp,fn,tp = cm114df.values.ravel()\n",
    "#Precision\n",
    "print(f\"Precision: {tp/(tp+fp)}\")\n",
    "#Sensitivity\n",
    "print(f\"Sensitvity:{tp/(tp+fn)}\")\n",
    "#F1\n",
    "print(classification_report(true114,pred114))"
   ]
  },
  {
   "cell_type": "code",
   "execution_count": 33,
   "id": "e63c0957",
   "metadata": {},
   "outputs": [
    {
     "data": {
      "text/plain": [
       "1    425\n",
       "0     22\n",
       "dtype: int64"
      ]
     },
     "execution_count": 33,
     "metadata": {},
     "output_type": "execute_result"
    }
   ],
   "source": [
    "#Session 115\n",
    "c115twitdf=[]\n",
    "for i in range(len(c115rawdf)):\n",
    "    #Check if Creation Date is null\n",
    "    if pd.isna(c115rawdf.iloc[i,12]):\n",
    "        c115twitdf.append(0)\n",
    "    else:\n",
    "        #If date joined before end of session\n",
    "        if c115rawdf.iloc[i,12]<c115rawdf.iloc[i,10]:\n",
    "            #Add Success (1) to series\n",
    "            c115twitdf.append(1)\n",
    "        #Join date is after end of session, meaning twitter account didn't exist\n",
    "        else:\n",
    "            c115twitdf.append(0)\n",
    "#Check Distribution of Twitter Accounts\n",
    "pd.Series(c115twitdf).value_counts()"
   ]
  },
  {
   "cell_type": "code",
   "execution_count": 34,
   "id": "e3fa1210",
   "metadata": {},
   "outputs": [
    {
     "name": "stdout",
     "output_type": "stream",
     "text": [
      "Training Data Score: 0.6751207729468599\n",
      "Testing Data Score: 0.9328859060402684\n"
     ]
    }
   ],
   "source": [
    "#Cleaning Training Data for 115\n",
    "#Add Session 114 to training data\n",
    "c115traindf = c114traindf.append(c114rawdf, ignore_index=True)\n",
    "#Drop duplicates, keeping most recent entries\n",
    "c115traindf = c115traindf.drop_duplicates(subset=['uniqueid'],keep='last')\n",
    "#Create corresponding success series\n",
    "c115traintwitdf=[]\n",
    "for i in range(len(c115traindf)):\n",
    "    #Check if Creation Date is null\n",
    "    if pd.isna(c115traindf.iloc[i,12]):\n",
    "        c115traintwitdf.append(0)\n",
    "    else:\n",
    "        #If date joined before end of session\n",
    "        if c115traindf.iloc[i,12]<c115traindf.iloc[i,10]:\n",
    "            #Add Success\n",
    "            c115traintwitdf.append(1)\n",
    "            #Correct Age in training set\n",
    "            c115traindf.iloc[i,8]=c115traindf.iloc[i,13]\n",
    "        else:\n",
    "            c115traintwitdf.append(0)\n",
    "#Isolate Relevant Data for Training and Testing\n",
    "c115train = c115traindf[['gender','party','AgeWhenSessionStarted']]\n",
    "c115test = c115rawdf[['gender','party','AgeWhenSessionStarted']]\n",
    "#Create Logistic Regression Model\n",
    "classifier115= LogisticRegression(max_iter = 10000)\n",
    "#Train Model\n",
    "classifier115.fit(c115train,c115traintwitdf)\n",
    "#Validate Model\n",
    "print(f\"Training Data Score: {classifier115.score(c115train,c115traintwitdf)}\")\n",
    "print(f\"Testing Data Score: {classifier115.score(c115test,c115twitdf)}\")"
   ]
  },
  {
   "cell_type": "code",
   "execution_count": 35,
   "id": "294b3abf",
   "metadata": {},
   "outputs": [
    {
     "data": {
      "text/html": [
       "<div>\n",
       "<style scoped>\n",
       "    .dataframe tbody tr th:only-of-type {\n",
       "        vertical-align: middle;\n",
       "    }\n",
       "\n",
       "    .dataframe tbody tr th {\n",
       "        vertical-align: top;\n",
       "    }\n",
       "\n",
       "    .dataframe thead th {\n",
       "        text-align: right;\n",
       "    }\n",
       "</style>\n",
       "<table border=\"1\" class=\"dataframe\">\n",
       "  <thead>\n",
       "    <tr style=\"text-align: right;\">\n",
       "      <th></th>\n",
       "      <th>Predicted 0</th>\n",
       "      <th>Predicted 1</th>\n",
       "    </tr>\n",
       "  </thead>\n",
       "  <tbody>\n",
       "    <tr>\n",
       "      <th>Actual 0</th>\n",
       "      <td>2</td>\n",
       "      <td>20</td>\n",
       "    </tr>\n",
       "    <tr>\n",
       "      <th>Actual 1</th>\n",
       "      <td>10</td>\n",
       "      <td>415</td>\n",
       "    </tr>\n",
       "  </tbody>\n",
       "</table>\n",
       "</div>"
      ],
      "text/plain": [
       "          Predicted 0  Predicted 1\n",
       "Actual 0            2           20\n",
       "Actual 1           10          415"
      ]
     },
     "execution_count": 35,
     "metadata": {},
     "output_type": "execute_result"
    }
   ],
   "source": [
    "#Confusion Matrix\n",
    "true115 = c115twitdf\n",
    "pred115 = classifier115.predict(c115test)\n",
    "cm115 = confusion_matrix(true115,pred115)\n",
    "#Turn into DataFrame\n",
    "cm115df = pd.DataFrame(cm115,index=[\"Actual 0\", \"Actual 1\"], columns=[\"Predicted 0\", \"Predicted 1\"])\n",
    "cm115df"
   ]
  },
  {
   "cell_type": "code",
   "execution_count": 36,
   "id": "fdc7d6b5",
   "metadata": {},
   "outputs": [
    {
     "name": "stdout",
     "output_type": "stream",
     "text": [
      "Precision: 0.9540229885057471\n",
      "Sensitvity:0.9764705882352941\n",
      "              precision    recall  f1-score   support\n",
      "\n",
      "           0       0.17      0.09      0.12        22\n",
      "           1       0.95      0.98      0.97       425\n",
      "\n",
      "    accuracy                           0.93       447\n",
      "   macro avg       0.56      0.53      0.54       447\n",
      "weighted avg       0.92      0.93      0.92       447\n",
      "\n"
     ]
    }
   ],
   "source": [
    "tn,fp,fn,tp = cm115df.values.ravel()\n",
    "#Precision\n",
    "print(f\"Precision: {tp/(tp+fp)}\")\n",
    "#Sensitivity\n",
    "print(f\"Sensitvity:{tp/(tp+fn)}\")\n",
    "#F1\n",
    "print(classification_report(true115,pred115))"
   ]
  },
  {
   "cell_type": "code",
   "execution_count": 37,
   "id": "20f564b9",
   "metadata": {},
   "outputs": [
    {
     "data": {
      "text/plain": [
       "1    432\n",
       "0     11\n",
       "dtype: int64"
      ]
     },
     "execution_count": 37,
     "metadata": {},
     "output_type": "execute_result"
    }
   ],
   "source": [
    "#Session 116\n",
    "c116twitdf=[]\n",
    "for i in range(len(c116rawdf)):\n",
    "    #Check if Creation Date is null\n",
    "    if pd.isna(c116rawdf.iloc[i,12]):\n",
    "        c116twitdf.append(0)\n",
    "    else:\n",
    "        #If date joined before end of session\n",
    "        if c116rawdf.iloc[i,12]<c116rawdf.iloc[i,10]:\n",
    "            #Add Success (1) to series\n",
    "            c116twitdf.append(1)\n",
    "        #Join date is after end of session, meaning twitter account didn't exist\n",
    "        else:\n",
    "            c116twitdf.append(0)\n",
    "#Check Distribution of Twitter Accounts\n",
    "pd.Series(c116twitdf).value_counts()"
   ]
  },
  {
   "cell_type": "code",
   "execution_count": 38,
   "id": "11b379dc",
   "metadata": {},
   "outputs": [
    {
     "name": "stdout",
     "output_type": "stream",
     "text": [
      "Training Data Score: 0.7024608501118568\n",
      "Testing Data Score: 0.9571106094808126\n"
     ]
    }
   ],
   "source": [
    "#Cleaning Training Data for 116\n",
    "#Add Session 115 to training data\n",
    "c116traindf = c115traindf.append(c115rawdf, ignore_index=True)\n",
    "#Drop duplicates, keeping most recent entries\n",
    "c116traindf = c116traindf.drop_duplicates(subset=['uniqueid'],keep='last')\n",
    "#Create corresponding success series\n",
    "c116traintwitdf=[]\n",
    "for i in range(len(c116traindf)):\n",
    "    #Check if Creation Date is null\n",
    "    if pd.isna(c116traindf.iloc[i,12]):\n",
    "        c116traintwitdf.append(0)\n",
    "    else:\n",
    "        #If date joined before end of session\n",
    "        if c116traindf.iloc[i,12]<c116traindf.iloc[i,10]:\n",
    "            #Add Success\n",
    "            c116traintwitdf.append(1)\n",
    "            #Correct Age in training set\n",
    "            c116traindf.iloc[i,8]=c116traindf.iloc[i,13]\n",
    "        else:\n",
    "            c116traintwitdf.append(0)\n",
    "#Isolate Relevant Data for Training and Testing\n",
    "c116train = c116traindf[['gender','party','AgeWhenSessionStarted']]\n",
    "c116test = c116rawdf[['gender','party','AgeWhenSessionStarted']]\n",
    "#Create Logistic Regression Model\n",
    "classifier116= LogisticRegression(max_iter = 10000)\n",
    "#Train Model\n",
    "classifier116.fit(c116train,c116traintwitdf)\n",
    "#Validate Model\n",
    "print(f\"Training Data Score: {classifier116.score(c116train,c116traintwitdf)}\")\n",
    "print(f\"Testing Data Score: {classifier116.score(c116test,c116twitdf)}\")"
   ]
  },
  {
   "cell_type": "code",
   "execution_count": 39,
   "id": "a1be72ee",
   "metadata": {},
   "outputs": [
    {
     "data": {
      "text/html": [
       "<div>\n",
       "<style scoped>\n",
       "    .dataframe tbody tr th:only-of-type {\n",
       "        vertical-align: middle;\n",
       "    }\n",
       "\n",
       "    .dataframe tbody tr th {\n",
       "        vertical-align: top;\n",
       "    }\n",
       "\n",
       "    .dataframe thead th {\n",
       "        text-align: right;\n",
       "    }\n",
       "</style>\n",
       "<table border=\"1\" class=\"dataframe\">\n",
       "  <thead>\n",
       "    <tr style=\"text-align: right;\">\n",
       "      <th></th>\n",
       "      <th>Predicted 0</th>\n",
       "      <th>Predicted 1</th>\n",
       "    </tr>\n",
       "  </thead>\n",
       "  <tbody>\n",
       "    <tr>\n",
       "      <th>Actual 0</th>\n",
       "      <td>3</td>\n",
       "      <td>8</td>\n",
       "    </tr>\n",
       "    <tr>\n",
       "      <th>Actual 1</th>\n",
       "      <td>11</td>\n",
       "      <td>421</td>\n",
       "    </tr>\n",
       "  </tbody>\n",
       "</table>\n",
       "</div>"
      ],
      "text/plain": [
       "          Predicted 0  Predicted 1\n",
       "Actual 0            3            8\n",
       "Actual 1           11          421"
      ]
     },
     "execution_count": 39,
     "metadata": {},
     "output_type": "execute_result"
    }
   ],
   "source": [
    "#Confusion Matrix\n",
    "true116 = c116twitdf\n",
    "pred116 = classifier116.predict(c116test)\n",
    "cm116 = confusion_matrix(true116,pred116)\n",
    "#Turn into DataFrame\n",
    "cm116df = pd.DataFrame(cm116,index=[\"Actual 0\", \"Actual 1\"], columns=[\"Predicted 0\", \"Predicted 1\"])\n",
    "cm116df"
   ]
  },
  {
   "cell_type": "code",
   "execution_count": 40,
   "id": "e3f53325",
   "metadata": {},
   "outputs": [
    {
     "name": "stdout",
     "output_type": "stream",
     "text": [
      "Precision: 0.9813519813519813\n",
      "Sensitvity:0.9745370370370371\n",
      "              precision    recall  f1-score   support\n",
      "\n",
      "           0       0.21      0.27      0.24        11\n",
      "           1       0.98      0.97      0.98       432\n",
      "\n",
      "    accuracy                           0.96       443\n",
      "   macro avg       0.60      0.62      0.61       443\n",
      "weighted avg       0.96      0.96      0.96       443\n",
      "\n"
     ]
    }
   ],
   "source": [
    "tn,fp,fn,tp = cm116df.values.ravel()\n",
    "#Precision\n",
    "print(f\"Precision: {tp/(tp+fp)}\")\n",
    "#Sensitivity\n",
    "print(f\"Sensitvity:{tp/(tp+fn)}\")\n",
    "#F1\n",
    "print(classification_report(true116,pred116))"
   ]
  },
  {
   "cell_type": "code",
   "execution_count": 41,
   "id": "3c5a19e1",
   "metadata": {},
   "outputs": [
    {
     "data": {
      "text/plain": [
       "1    443\n",
       "0      6\n",
       "dtype: int64"
      ]
     },
     "execution_count": 41,
     "metadata": {},
     "output_type": "execute_result"
    }
   ],
   "source": [
    "#Session 117\n",
    "c117twitdf=[]\n",
    "for i in range(len(c117rawdf)):\n",
    "    #Check if Creation Date is null\n",
    "    if pd.isna(c117rawdf.iloc[i,12]):\n",
    "        c117twitdf.append(0)\n",
    "    else:\n",
    "        #If date joined before end of session\n",
    "        if c117rawdf.iloc[i,12]<c117rawdf.iloc[i,10]:\n",
    "            #Add Success (1) to series\n",
    "            c117twitdf.append(1)\n",
    "        #Join date is after end of session, meaning twitter account didn't exist\n",
    "        else:\n",
    "            c117twitdf.append(0)\n",
    "#Check Distribution of Twitter Accounts\n",
    "pd.Series(c117twitdf).value_counts()"
   ]
  },
  {
   "cell_type": "code",
   "execution_count": 42,
   "id": "d9f2b6ec",
   "metadata": {},
   "outputs": [
    {
     "name": "stdout",
     "output_type": "stream",
     "text": [
      "Training Data Score: 0.7338056680161943\n",
      "Testing Data Score: 0.9732739420935412\n"
     ]
    }
   ],
   "source": [
    "#Cleaning Training Data for 117\n",
    "#Add Session 116 to training data\n",
    "c117traindf = c116traindf.append(c116rawdf, ignore_index=True)\n",
    "#Drop duplicates, keeping most recent entries\n",
    "c117traindf = c117traindf.drop_duplicates(subset=['uniqueid'],keep='last')\n",
    "#Create corresponding success series\n",
    "c117traintwitdf=[]\n",
    "for i in range(len(c117traindf)):\n",
    "    #Check if Creation Date is null\n",
    "    if pd.isna(c117traindf.iloc[i,12]):\n",
    "        c117traintwitdf.append(0)\n",
    "    else:\n",
    "        #If date joined before end of session\n",
    "        if c117traindf.iloc[i,12]<c117traindf.iloc[i,10]:\n",
    "            #Add Success\n",
    "            c117traintwitdf.append(1)\n",
    "            #Correct Age in training set\n",
    "            c117traindf.iloc[i,8]=c117traindf.iloc[i,13]\n",
    "        else:\n",
    "            c117traintwitdf.append(0)\n",
    "#Isolate Relevant Data for Training and Testing\n",
    "c117train = c117traindf[['gender','party','AgeWhenSessionStarted']]\n",
    "c117test = c117rawdf[['gender','party','AgeWhenSessionStarted']]\n",
    "#Create Logistic Regression Model\n",
    "classifier117= LogisticRegression(max_iter = 10000)\n",
    "#Train Model\n",
    "classifier117.fit(c117train,c117traintwitdf)\n",
    "#Validate Model\n",
    "print(f\"Training Data Score: {classifier117.score(c117train,c117traintwitdf)}\")\n",
    "print(f\"Testing Data Score: {classifier117.score(c117test,c117twitdf)}\")"
   ]
  },
  {
   "cell_type": "code",
   "execution_count": 43,
   "id": "3881dc6c",
   "metadata": {},
   "outputs": [
    {
     "data": {
      "text/html": [
       "<div>\n",
       "<style scoped>\n",
       "    .dataframe tbody tr th:only-of-type {\n",
       "        vertical-align: middle;\n",
       "    }\n",
       "\n",
       "    .dataframe tbody tr th {\n",
       "        vertical-align: top;\n",
       "    }\n",
       "\n",
       "    .dataframe thead th {\n",
       "        text-align: right;\n",
       "    }\n",
       "</style>\n",
       "<table border=\"1\" class=\"dataframe\">\n",
       "  <thead>\n",
       "    <tr style=\"text-align: right;\">\n",
       "      <th></th>\n",
       "      <th>Predicted 0</th>\n",
       "      <th>Predicted 1</th>\n",
       "    </tr>\n",
       "  </thead>\n",
       "  <tbody>\n",
       "    <tr>\n",
       "      <th>Actual 0</th>\n",
       "      <td>2</td>\n",
       "      <td>4</td>\n",
       "    </tr>\n",
       "    <tr>\n",
       "      <th>Actual 1</th>\n",
       "      <td>8</td>\n",
       "      <td>435</td>\n",
       "    </tr>\n",
       "  </tbody>\n",
       "</table>\n",
       "</div>"
      ],
      "text/plain": [
       "          Predicted 0  Predicted 1\n",
       "Actual 0            2            4\n",
       "Actual 1            8          435"
      ]
     },
     "execution_count": 43,
     "metadata": {},
     "output_type": "execute_result"
    }
   ],
   "source": [
    "#Confusion Matrix\n",
    "true117 = c117twitdf\n",
    "pred117 = classifier117.predict(c117test)\n",
    "cm117 = confusion_matrix(true117,pred117)\n",
    "#Turn into DataFrame\n",
    "cm117df = pd.DataFrame(cm117,index=[\"Actual 0\", \"Actual 1\"], columns=[\"Predicted 0\", \"Predicted 1\"])\n",
    "cm117df"
   ]
  },
  {
   "cell_type": "code",
   "execution_count": 44,
   "id": "bbd291af",
   "metadata": {},
   "outputs": [
    {
     "name": "stdout",
     "output_type": "stream",
     "text": [
      "Precision: 0.9908883826879271\n",
      "Sensitvity:0.981941309255079\n",
      "              precision    recall  f1-score   support\n",
      "\n",
      "           0       0.20      0.33      0.25         6\n",
      "           1       0.99      0.98      0.99       443\n",
      "\n",
      "    accuracy                           0.97       449\n",
      "   macro avg       0.60      0.66      0.62       449\n",
      "weighted avg       0.98      0.97      0.98       449\n",
      "\n"
     ]
    }
   ],
   "source": [
    "tn,fp,fn,tp = cm117df.values.ravel()\n",
    "#Precision\n",
    "print(f\"Precision: {tp/(tp+fp)}\")\n",
    "#Sensitivity\n",
    "print(f\"Sensitvity:{tp/(tp+fn)}\")\n",
    "#F1\n",
    "print(classification_report(true117,pred117))"
   ]
  },
  {
   "cell_type": "code",
   "execution_count": 45,
   "id": "11e70abb",
   "metadata": {},
   "outputs": [
    {
     "data": {
      "text/plain": [
       "1    437\n",
       "0      3\n",
       "dtype: int64"
      ]
     },
     "execution_count": 45,
     "metadata": {},
     "output_type": "execute_result"
    }
   ],
   "source": [
    "#Session 118\n",
    "c118twitdf=[]\n",
    "for i in range(len(c118rawdf)):\n",
    "    #Check if Creation Date is null\n",
    "    if pd.isna(c118rawdf.iloc[i,12]):\n",
    "        c118twitdf.append(0)\n",
    "    else:\n",
    "        #If date joined before end of session\n",
    "        if c118rawdf.iloc[i,12]<c118rawdf.iloc[i,10]:\n",
    "            #Add Success (1) to series\n",
    "            c118twitdf.append(1)\n",
    "        #Join date is after end of session, meaning twitter account didn't exist\n",
    "        else:\n",
    "            c118twitdf.append(0)\n",
    "#Check Distribution of Twitter Accounts\n",
    "pd.Series(c118twitdf).value_counts()"
   ]
  },
  {
   "cell_type": "code",
   "execution_count": 46,
   "id": "75f179ad",
   "metadata": {},
   "outputs": [
    {
     "name": "stdout",
     "output_type": "stream",
     "text": [
      "Training Data Score: 0.7509433962264151\n",
      "Testing Data Score: 0.9772727272727273\n"
     ]
    }
   ],
   "source": [
    "#Cleaning Training Data for 118\n",
    "#Add Session 117 to training data\n",
    "c118traindf = c117traindf.append(c117rawdf, ignore_index=True)\n",
    "#Drop duplicates, keeping most recent entries\n",
    "c118traindf = c118traindf.drop_duplicates(subset=['uniqueid'],keep='last')\n",
    "#Create corresponding success series\n",
    "c118traintwitdf=[]\n",
    "for i in range(len(c118traindf)):\n",
    "    #Check if Creation Date is null\n",
    "    if pd.isna(c118traindf.iloc[i,12]):\n",
    "        c118traintwitdf.append(0)\n",
    "    else:\n",
    "        #If date joined before end of session\n",
    "        if c118traindf.iloc[i,12]<c118traindf.iloc[i,10]:\n",
    "            #Add Success\n",
    "            c118traintwitdf.append(1)\n",
    "            #Correct Age in training set\n",
    "            c118traindf.iloc[i,8]=c118traindf.iloc[i,13]\n",
    "        else:\n",
    "            c118traintwitdf.append(0)\n",
    "#Isolate Relevant Data for Training and Testing\n",
    "c118train = c118traindf[['gender','party','AgeWhenSessionStarted']]\n",
    "c118test = c118rawdf[['gender','party','AgeWhenSessionStarted']]\n",
    "#Create Logistic Regression Model\n",
    "classifier118= LogisticRegression(max_iter = 10000)\n",
    "#Train Model\n",
    "classifier118.fit(c118train,c118traintwitdf)\n",
    "#Validate Model\n",
    "print(f\"Training Data Score: {classifier118.score(c118train,c118traintwitdf)}\")\n",
    "print(f\"Testing Data Score: {classifier118.score(c118test,c118twitdf)}\")"
   ]
  },
  {
   "cell_type": "code",
   "execution_count": 47,
   "id": "06e2790b",
   "metadata": {},
   "outputs": [
    {
     "data": {
      "text/html": [
       "<div>\n",
       "<style scoped>\n",
       "    .dataframe tbody tr th:only-of-type {\n",
       "        vertical-align: middle;\n",
       "    }\n",
       "\n",
       "    .dataframe tbody tr th {\n",
       "        vertical-align: top;\n",
       "    }\n",
       "\n",
       "    .dataframe thead th {\n",
       "        text-align: right;\n",
       "    }\n",
       "</style>\n",
       "<table border=\"1\" class=\"dataframe\">\n",
       "  <thead>\n",
       "    <tr style=\"text-align: right;\">\n",
       "      <th></th>\n",
       "      <th>Predicted 0</th>\n",
       "      <th>Predicted 1</th>\n",
       "    </tr>\n",
       "  </thead>\n",
       "  <tbody>\n",
       "    <tr>\n",
       "      <th>Actual 0</th>\n",
       "      <td>2</td>\n",
       "      <td>1</td>\n",
       "    </tr>\n",
       "    <tr>\n",
       "      <th>Actual 1</th>\n",
       "      <td>9</td>\n",
       "      <td>428</td>\n",
       "    </tr>\n",
       "  </tbody>\n",
       "</table>\n",
       "</div>"
      ],
      "text/plain": [
       "          Predicted 0  Predicted 1\n",
       "Actual 0            2            1\n",
       "Actual 1            9          428"
      ]
     },
     "execution_count": 47,
     "metadata": {},
     "output_type": "execute_result"
    }
   ],
   "source": [
    "#Confusion Matrix\n",
    "true118 = c118twitdf\n",
    "pred118 = classifier118.predict(c118test)\n",
    "cm118 = confusion_matrix(true118,pred118)\n",
    "#Turn into DataFrame\n",
    "cm118df = pd.DataFrame(cm118,index=[\"Actual 0\", \"Actual 1\"], columns=[\"Predicted 0\", \"Predicted 1\"])\n",
    "cm118df"
   ]
  },
  {
   "cell_type": "code",
   "execution_count": 48,
   "id": "0e33f298",
   "metadata": {},
   "outputs": [
    {
     "name": "stdout",
     "output_type": "stream",
     "text": [
      "Precision: 0.9976689976689976\n",
      "Sensitvity:0.9794050343249427\n",
      "              precision    recall  f1-score   support\n",
      "\n",
      "           0       0.18      0.67      0.29         3\n",
      "           1       1.00      0.98      0.99       437\n",
      "\n",
      "    accuracy                           0.98       440\n",
      "   macro avg       0.59      0.82      0.64       440\n",
      "weighted avg       0.99      0.98      0.98       440\n",
      "\n"
     ]
    }
   ],
   "source": [
    "tn,fp,fn,tp = cm118df.values.ravel()\n",
    "#Precision\n",
    "print(f\"Precision: {tp/(tp+fp)}\")\n",
    "#Sensitivity\n",
    "print(f\"Sensitvity:{tp/(tp+fn)}\")\n",
    "#F1\n",
    "print(classification_report(true118,pred118))"
   ]
  },
  {
   "cell_type": "code",
   "execution_count": null,
   "id": "8739cf29",
   "metadata": {},
   "outputs": [],
   "source": []
  }
 ],
 "metadata": {
  "kernelspec": {
   "display_name": "mlenv",
   "language": "python",
   "name": "mlenv"
  },
  "language_info": {
   "codemirror_mode": {
    "name": "ipython",
    "version": 3
   },
   "file_extension": ".py",
   "mimetype": "text/x-python",
   "name": "python",
   "nbconvert_exporter": "python",
   "pygments_lexer": "ipython3",
   "version": "3.7.13"
  }
 },
 "nbformat": 4,
 "nbformat_minor": 5
}
