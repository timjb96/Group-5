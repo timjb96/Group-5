{
 "cells": [
  {
   "cell_type": "code",
   "execution_count": 1,
   "id": "f0480f82",
   "metadata": {},
   "outputs": [],
   "source": [
    " %matplotlib inline\n",
    "import matplotlib.pyplot as plt\n",
    "import pandas as pd\n",
    "import numpy as np\n",
    "import os\n",
    "from sklearn.linear_model import LogisticRegression\n",
    "from sklearn.model_selection import train_test_split\n",
    "from sklearn.metrics import confusion_matrix, classification_report"
   ]
  },
  {
   "cell_type": "code",
   "execution_count": 2,
   "id": "7933b5df",
   "metadata": {
    "scrolled": false
   },
   "outputs": [
    {
     "data": {
      "text/html": [
       "<div>\n",
       "<style scoped>\n",
       "    .dataframe tbody tr th:only-of-type {\n",
       "        vertical-align: middle;\n",
       "    }\n",
       "\n",
       "    .dataframe tbody tr th {\n",
       "        vertical-align: top;\n",
       "    }\n",
       "\n",
       "    .dataframe thead th {\n",
       "        text-align: right;\n",
       "    }\n",
       "</style>\n",
       "<table border=\"1\" class=\"dataframe\">\n",
       "  <thead>\n",
       "    <tr style=\"text-align: right;\">\n",
       "      <th></th>\n",
       "      <th>uniqueid</th>\n",
       "      <th>fullname</th>\n",
       "      <th>gender</th>\n",
       "      <th>dob</th>\n",
       "      <th>party</th>\n",
       "      <th>stateabr</th>\n",
       "      <th>district</th>\n",
       "      <th>CongressSession</th>\n",
       "      <th>AgeWhenSessionStarted</th>\n",
       "      <th>sessionstartedon</th>\n",
       "      <th>sessionendedon</th>\n",
       "      <th>twitterhandle</th>\n",
       "      <th>joinedon</th>\n",
       "      <th>AgeWhenTwitterJoined</th>\n",
       "      <th>yearjoinedontwitter</th>\n",
       "    </tr>\n",
       "  </thead>\n",
       "  <tbody>\n",
       "    <tr>\n",
       "      <th>0</th>\n",
       "      <td>McP-NC10</td>\n",
       "      <td>McHenry, Patrick T.</td>\n",
       "      <td>M</td>\n",
       "      <td>1975-11-22</td>\n",
       "      <td>Republican</td>\n",
       "      <td>NC</td>\n",
       "      <td>10</td>\n",
       "      <td>109</td>\n",
       "      <td>29</td>\n",
       "      <td>2005-01-03</td>\n",
       "      <td>2007-01-03</td>\n",
       "      <td>PatrickMcHenry</td>\n",
       "      <td>2009-03-01</td>\n",
       "      <td>33.0</td>\n",
       "      <td>2009.0</td>\n",
       "    </tr>\n",
       "    <tr>\n",
       "      <th>1</th>\n",
       "      <td>PuA-FL12</td>\n",
       "      <td>Putnam, Adam H.</td>\n",
       "      <td>M</td>\n",
       "      <td>1974-07-31</td>\n",
       "      <td>Republican</td>\n",
       "      <td>FL</td>\n",
       "      <td>12</td>\n",
       "      <td>109</td>\n",
       "      <td>30</td>\n",
       "      <td>2005-01-03</td>\n",
       "      <td>2007-01-03</td>\n",
       "      <td>adamputnam</td>\n",
       "      <td>2009-06-01</td>\n",
       "      <td>34.0</td>\n",
       "      <td>2009.0</td>\n",
       "    </tr>\n",
       "    <tr>\n",
       "      <th>2</th>\n",
       "      <td>RyT-OH13</td>\n",
       "      <td>Ryan, Tim</td>\n",
       "      <td>M</td>\n",
       "      <td>1973-07-16</td>\n",
       "      <td>Democratic</td>\n",
       "      <td>OH</td>\n",
       "      <td>13</td>\n",
       "      <td>109</td>\n",
       "      <td>31</td>\n",
       "      <td>2005-01-03</td>\n",
       "      <td>2007-01-03</td>\n",
       "      <td>RepTimRyan</td>\n",
       "      <td>2008-02-01</td>\n",
       "      <td>34.0</td>\n",
       "      <td>2008.0</td>\n",
       "    </tr>\n",
       "    <tr>\n",
       "      <th>3</th>\n",
       "      <td>BoD-OK02</td>\n",
       "      <td>Boren, Dan</td>\n",
       "      <td>M</td>\n",
       "      <td>1973-08-02</td>\n",
       "      <td>Democratic</td>\n",
       "      <td>OK</td>\n",
       "      <td>2</td>\n",
       "      <td>109</td>\n",
       "      <td>31</td>\n",
       "      <td>2005-01-03</td>\n",
       "      <td>2007-01-03</td>\n",
       "      <td>DanBorenOK</td>\n",
       "      <td>2020-04-01</td>\n",
       "      <td>46.0</td>\n",
       "      <td>2020.0</td>\n",
       "    </tr>\n",
       "    <tr>\n",
       "      <th>4</th>\n",
       "      <td>NuD-CA22</td>\n",
       "      <td>Nunes, Devin</td>\n",
       "      <td>M</td>\n",
       "      <td>1973-10-01</td>\n",
       "      <td>Republican</td>\n",
       "      <td>CA</td>\n",
       "      <td>22</td>\n",
       "      <td>109</td>\n",
       "      <td>31</td>\n",
       "      <td>2005-01-03</td>\n",
       "      <td>2007-01-03</td>\n",
       "      <td>DevinNunes</td>\n",
       "      <td>2009-07-01</td>\n",
       "      <td>35.0</td>\n",
       "      <td>2009.0</td>\n",
       "    </tr>\n",
       "  </tbody>\n",
       "</table>\n",
       "</div>"
      ],
      "text/plain": [
       "   uniqueid             fullname gender         dob       party stateabr  \\\n",
       "0  McP-NC10  McHenry, Patrick T.      M  1975-11-22  Republican       NC   \n",
       "1  PuA-FL12      Putnam, Adam H.      M  1974-07-31  Republican       FL   \n",
       "2  RyT-OH13            Ryan, Tim      M  1973-07-16  Democratic       OH   \n",
       "3  BoD-OK02           Boren, Dan      M  1973-08-02  Democratic       OK   \n",
       "4  NuD-CA22         Nunes, Devin      M  1973-10-01  Republican       CA   \n",
       "\n",
       "   district  CongressSession  AgeWhenSessionStarted sessionstartedon  \\\n",
       "0        10              109                     29       2005-01-03   \n",
       "1        12              109                     30       2005-01-03   \n",
       "2        13              109                     31       2005-01-03   \n",
       "3         2              109                     31       2005-01-03   \n",
       "4        22              109                     31       2005-01-03   \n",
       "\n",
       "  sessionendedon   twitterhandle    joinedon  AgeWhenTwitterJoined  \\\n",
       "0     2007-01-03  PatrickMcHenry  2009-03-01                  33.0   \n",
       "1     2007-01-03      adamputnam  2009-06-01                  34.0   \n",
       "2     2007-01-03      RepTimRyan  2008-02-01                  34.0   \n",
       "3     2007-01-03      DanBorenOK  2020-04-01                  46.0   \n",
       "4     2007-01-03      DevinNunes  2009-07-01                  35.0   \n",
       "\n",
       "   yearjoinedontwitter  \n",
       "0               2009.0  \n",
       "1               2009.0  \n",
       "2               2008.0  \n",
       "3               2020.0  \n",
       "4               2009.0  "
      ]
     },
     "execution_count": 2,
     "metadata": {},
     "output_type": "execute_result"
    }
   ],
   "source": [
    "#congressional_db = pd.read_csv('../Resources/.csv', header=None, names=[])\n",
    "#congressional_db.head()\n",
    "congdf = pd.read_csv('Resources/housesessions109_118.csv')\n",
    "congdf.head()"
   ]
  },
  {
   "cell_type": "code",
   "execution_count": 3,
   "id": "9bb0ff42",
   "metadata": {},
   "outputs": [
    {
     "data": {
      "text/plain": [
       "M    3519\n",
       "F     927\n",
       "f       4\n",
       "Name: gender, dtype: int64"
      ]
     },
     "execution_count": 3,
     "metadata": {},
     "output_type": "execute_result"
    }
   ],
   "source": [
    "#Clean Values\n",
    "#Check Gender values\n",
    "congdf['gender'].value_counts()"
   ]
  },
  {
   "cell_type": "code",
   "execution_count": 4,
   "id": "4b1ddc62",
   "metadata": {},
   "outputs": [],
   "source": [
    "#Change Gender to Numerical Values (Male = 0),(Female = 1)\n",
    "congdf['gender'] = congdf['gender'].replace(['M','F','f'],[0,1,1])\n",
    "#congdf.loc[congdf['CongressSession']==110]\n"
   ]
  },
  {
   "cell_type": "code",
   "execution_count": 5,
   "id": "e486c4d7",
   "metadata": {},
   "outputs": [
    {
     "data": {
      "text/plain": [
       "Republican     2237\n",
       "Democratic     2202\n",
       "Independent       6\n",
       "Libertarian       5\n",
       "Name: party, dtype: int64"
      ]
     },
     "execution_count": 5,
     "metadata": {},
     "output_type": "execute_result"
    }
   ],
   "source": [
    "#Check party values\n",
    "congdf['party'].value_counts()"
   ]
  },
  {
   "cell_type": "code",
   "execution_count": 6,
   "id": "0a6ad17e",
   "metadata": {},
   "outputs": [],
   "source": [
    "#Change Party (Republican = 0),(Democrat = 1),(Others = 2)\n",
    "congdf['party'] = congdf['party'].replace(['Republican','Democratic','Independent','Libertarian'],[0,1,2,2])"
   ]
  },
  {
   "cell_type": "code",
   "execution_count": 7,
   "id": "53488cc9",
   "metadata": {},
   "outputs": [],
   "source": [
    "#Set gender and party as int\n",
    "congdf = congdf.astype({'gender':'int','party':'int'})"
   ]
  },
  {
   "cell_type": "code",
   "execution_count": 8,
   "id": "93a34cc8",
   "metadata": {},
   "outputs": [],
   "source": [
    "#Separate into raw DataFrames by CongressSession\n",
    "c109rawdf = congdf.loc[congdf['CongressSession']==109]\n",
    "c110rawdf = congdf.loc[congdf['CongressSession']==110]\n",
    "c111rawdf = congdf.loc[congdf['CongressSession']==111]\n",
    "c112rawdf = congdf.loc[congdf['CongressSession']==112]\n",
    "c113rawdf = congdf.loc[congdf['CongressSession']==113]\n",
    "c114rawdf = congdf.loc[congdf['CongressSession']==114]\n",
    "c115rawdf = congdf.loc[congdf['CongressSession']==115]\n",
    "c116rawdf = congdf.loc[congdf['CongressSession']==116]\n",
    "c117rawdf = congdf.loc[congdf['CongressSession']==117]\n",
    "c118rawdf = congdf.loc[congdf['CongressSession']==118]\n"
   ]
  },
  {
   "cell_type": "code",
   "execution_count": 9,
   "id": "f7459190",
   "metadata": {},
   "outputs": [],
   "source": [
    "#Create Blank Series for Session 109 Twitter Existence\n",
    "c109twitdf=[]\n",
    "for i in range(len(c109rawdf)):\n",
    "    #Check if Creation Date is null\n",
    "    if pd.isna(c109rawdf.iloc[i,12]):\n",
    "        c109twitdf.append(0)\n",
    "    else:\n",
    "        #If date joined before end of session\n",
    "        if c109rawdf.iloc[i,12]<c109rawdf.iloc[i,10]:\n",
    "            #Add Success (1) to series\n",
    "            c109twitdf.append(1)\n",
    "        #Join date is after end of session, meaning twitter account didn't exist\n",
    "        else:\n",
    "            c109twitdf.append(0)"
   ]
  },
  {
   "cell_type": "code",
   "execution_count": 10,
   "id": "281ab1b5",
   "metadata": {},
   "outputs": [
    {
     "data": {
      "text/plain": [
       "0    444\n",
       "dtype: int64"
      ]
     },
     "execution_count": 10,
     "metadata": {},
     "output_type": "execute_result"
    }
   ],
   "source": [
    "#Check Distribution of Twitter Accounts\n",
    "pd.Series(c109twitdf).value_counts()"
   ]
  },
  {
   "cell_type": "code",
   "execution_count": 11,
   "id": "d87c1611",
   "metadata": {},
   "outputs": [
    {
     "data": {
      "text/plain": [
       "0    390\n",
       "1     55\n",
       "dtype: int64"
      ]
     },
     "execution_count": 11,
     "metadata": {},
     "output_type": "execute_result"
    }
   ],
   "source": [
    "#Same Steps for Session 110\n",
    "c110twitdf=[]\n",
    "for i in range(len(c110rawdf)):\n",
    "    #Check if Creation Date is null\n",
    "    if pd.isna(c110rawdf.iloc[i,12]):\n",
    "        c110twitdf.append(0)\n",
    "    else:\n",
    "        #If date joined before end of session\n",
    "        if c110rawdf.iloc[i,12]<c110rawdf.iloc[i,10]:\n",
    "            #Add Success (1) to series\n",
    "            c110twitdf.append(1)\n",
    "        #Join date is after end of session, meaning twitter account didn't exist\n",
    "        else:\n",
    "            c110twitdf.append(0)\n",
    "#Check Distribution of Twitter Accounts\n",
    "pd.Series(c110twitdf).value_counts()"
   ]
  },
  {
   "cell_type": "code",
   "execution_count": 12,
   "id": "a1e1bae0",
   "metadata": {},
   "outputs": [
    {
     "data": {
      "text/plain": [
       "1    245\n",
       "0    202\n",
       "dtype: int64"
      ]
     },
     "execution_count": 12,
     "metadata": {},
     "output_type": "execute_result"
    }
   ],
   "source": [
    "#Session 111\n",
    "c111twitdf=[]\n",
    "for i in range(len(c111rawdf)):\n",
    "    #Check if Creation Date is null\n",
    "    if pd.isna(c111rawdf.iloc[i,12]):\n",
    "        c111twitdf.append(0)\n",
    "    else:\n",
    "        #If date joined before end of session\n",
    "        if c111rawdf.iloc[i,12]<c111rawdf.iloc[i,10]:\n",
    "            #Add Success (1) to series\n",
    "            c111twitdf.append(1)\n",
    "        #Join date is after end of session, meaning twitter account didn't exist\n",
    "        else:\n",
    "            c111twitdf.append(0)\n",
    "#Check Distribution of Twitter Accounts\n",
    "pd.Series(c111twitdf).value_counts()"
   ]
  },
  {
   "cell_type": "code",
   "execution_count": 13,
   "id": "90379e43",
   "metadata": {},
   "outputs": [
    {
     "data": {
      "text/plain": [
       "1    354\n",
       "0     92\n",
       "dtype: int64"
      ]
     },
     "execution_count": 13,
     "metadata": {},
     "output_type": "execute_result"
    }
   ],
   "source": [
    "#Session 112\n",
    "c112twitdf=[]\n",
    "for i in range(len(c112rawdf)):\n",
    "    #Check if Creation Date is null\n",
    "    if pd.isna(c112rawdf.iloc[i,12]):\n",
    "        c112twitdf.append(0)\n",
    "    else:\n",
    "        #If date joined before end of session\n",
    "        if c112rawdf.iloc[i,12]<c112rawdf.iloc[i,10]:\n",
    "            #Add Success (1) to series\n",
    "            c112twitdf.append(1)\n",
    "        #Join date is after end of session, meaning twitter account didn't exist\n",
    "        else:\n",
    "            c112twitdf.append(0)\n",
    "#Check Distribution of Twitter Accounts\n",
    "pd.Series(c112twitdf).value_counts()"
   ]
  },
  {
   "cell_type": "code",
   "execution_count": 14,
   "id": "c26e978c",
   "metadata": {},
   "outputs": [
    {
     "data": {
      "text/plain": [
       "1    397\n",
       "0     48\n",
       "dtype: int64"
      ]
     },
     "execution_count": 14,
     "metadata": {},
     "output_type": "execute_result"
    }
   ],
   "source": [
    "#Session 113\n",
    "c113twitdf=[]\n",
    "for i in range(len(c113rawdf)):\n",
    "    #Check if Creation Date is null\n",
    "    if pd.isna(c113rawdf.iloc[i,12]):\n",
    "        c113twitdf.append(0)\n",
    "    else:\n",
    "        #If date joined before end of session\n",
    "        if c113rawdf.iloc[i,12]<c113rawdf.iloc[i,10]:\n",
    "            #Add Success (1) to series\n",
    "            c113twitdf.append(1)\n",
    "        #Join date is after end of session, meaning twitter account didn't exist\n",
    "        else:\n",
    "            c113twitdf.append(0)\n",
    "#Check Distribution of Twitter Accounts\n",
    "pd.Series(c113twitdf).value_counts()"
   ]
  },
  {
   "cell_type": "code",
   "execution_count": 15,
   "id": "00d44ee1",
   "metadata": {},
   "outputs": [
    {
     "data": {
      "text/plain": [
       "1    410\n",
       "0     34\n",
       "dtype: int64"
      ]
     },
     "execution_count": 15,
     "metadata": {},
     "output_type": "execute_result"
    }
   ],
   "source": [
    "#Session 114\n",
    "c114twitdf=[]\n",
    "for i in range(len(c114rawdf)):\n",
    "    #Check if Creation Date is null\n",
    "    if pd.isna(c114rawdf.iloc[i,12]):\n",
    "        c114twitdf.append(0)\n",
    "    else:\n",
    "        #If date joined before end of session\n",
    "        if c114rawdf.iloc[i,12]<c114rawdf.iloc[i,10]:\n",
    "            #Add Success (1) to series\n",
    "            c114twitdf.append(1)\n",
    "        #Join date is after end of session, meaning twitter account didn't exist\n",
    "        else:\n",
    "            c114twitdf.append(0)\n",
    "#Check Distribution of Twitter Accounts\n",
    "pd.Series(c114twitdf).value_counts()"
   ]
  },
  {
   "cell_type": "code",
   "execution_count": 16,
   "id": "a1365379",
   "metadata": {},
   "outputs": [
    {
     "data": {
      "text/plain": [
       "1    425\n",
       "0     22\n",
       "dtype: int64"
      ]
     },
     "execution_count": 16,
     "metadata": {},
     "output_type": "execute_result"
    }
   ],
   "source": [
    "#Session 115\n",
    "c115twitdf=[]\n",
    "for i in range(len(c115rawdf)):\n",
    "    #Check if Creation Date is null\n",
    "    if pd.isna(c115rawdf.iloc[i,12]):\n",
    "        c115twitdf.append(0)\n",
    "    else:\n",
    "        #If date joined before end of session\n",
    "        if c115rawdf.iloc[i,12]<c115rawdf.iloc[i,10]:\n",
    "            #Add Success (1) to series\n",
    "            c115twitdf.append(1)\n",
    "        #Join date is after end of session, meaning twitter account didn't exist\n",
    "        else:\n",
    "            c115twitdf.append(0)\n",
    "#Check Distribution of Twitter Accounts\n",
    "pd.Series(c115twitdf).value_counts()"
   ]
  },
  {
   "cell_type": "code",
   "execution_count": 17,
   "id": "b45ab8da",
   "metadata": {},
   "outputs": [
    {
     "data": {
      "text/plain": [
       "1    432\n",
       "0     11\n",
       "dtype: int64"
      ]
     },
     "execution_count": 17,
     "metadata": {},
     "output_type": "execute_result"
    }
   ],
   "source": [
    "#Session 116\n",
    "c116twitdf=[]\n",
    "for i in range(len(c116rawdf)):\n",
    "    #Check if Creation Date is null\n",
    "    if pd.isna(c116rawdf.iloc[i,12]):\n",
    "        c116twitdf.append(0)\n",
    "    else:\n",
    "        #If date joined before end of session\n",
    "        if c116rawdf.iloc[i,12]<c116rawdf.iloc[i,10]:\n",
    "            #Add Success (1) to series\n",
    "            c116twitdf.append(1)\n",
    "        #Join date is after end of session, meaning twitter account didn't exist\n",
    "        else:\n",
    "            c116twitdf.append(0)\n",
    "#Check Distribution of Twitter Accounts\n",
    "pd.Series(c116twitdf).value_counts()"
   ]
  },
  {
   "cell_type": "code",
   "execution_count": 18,
   "id": "6e4dca84",
   "metadata": {},
   "outputs": [
    {
     "data": {
      "text/plain": [
       "1    443\n",
       "0      6\n",
       "dtype: int64"
      ]
     },
     "execution_count": 18,
     "metadata": {},
     "output_type": "execute_result"
    }
   ],
   "source": [
    "#Session 117\n",
    "c117twitdf=[]\n",
    "for i in range(len(c117rawdf)):\n",
    "    #Check if Creation Date is null\n",
    "    if pd.isna(c117rawdf.iloc[i,12]):\n",
    "        c117twitdf.append(0)\n",
    "    else:\n",
    "        #If date joined before end of session\n",
    "        if c117rawdf.iloc[i,12]<c117rawdf.iloc[i,10]:\n",
    "            #Add Success (1) to series\n",
    "            c117twitdf.append(1)\n",
    "        #Join date is after end of session, meaning twitter account didn't exist\n",
    "        else:\n",
    "            c117twitdf.append(0)\n",
    "#Check Distribution of Twitter Accounts\n",
    "pd.Series(c117twitdf).value_counts()"
   ]
  },
  {
   "cell_type": "code",
   "execution_count": 19,
   "id": "a19ee9f1",
   "metadata": {},
   "outputs": [
    {
     "data": {
      "text/plain": [
       "1    437\n",
       "0      3\n",
       "dtype: int64"
      ]
     },
     "execution_count": 19,
     "metadata": {},
     "output_type": "execute_result"
    }
   ],
   "source": [
    "#Session 118\n",
    "c118twitdf=[]\n",
    "for i in range(len(c118rawdf)):\n",
    "    #Check if Creation Date is null\n",
    "    if pd.isna(c118rawdf.iloc[i,12]):\n",
    "        c118twitdf.append(0)\n",
    "    else:\n",
    "        #If date joined before end of session\n",
    "        if c118rawdf.iloc[i,12]<c118rawdf.iloc[i,10]:\n",
    "            #Add Success (1) to series\n",
    "            c118twitdf.append(1)\n",
    "        #Join date is after end of session, meaning twitter account didn't exist\n",
    "        else:\n",
    "            c118twitdf.append(0)\n",
    "#Check Distribution of Twitter Accounts\n",
    "pd.Series(c118twitdf).value_counts()"
   ]
  },
  {
   "cell_type": "code",
   "execution_count": 21,
   "id": "75f179ad",
   "metadata": {},
   "outputs": [],
   "source": [
    "#Set y to be Whether Twitter acc existed\n",
    "#y = df[columnname]\n",
    "#Check columnname size"
   ]
  },
  {
   "cell_type": "code",
   "execution_count": 22,
   "id": "4382e099",
   "metadata": {},
   "outputs": [
    {
     "data": {
      "text/html": [
       "<div>\n",
       "<style scoped>\n",
       "    .dataframe tbody tr th:only-of-type {\n",
       "        vertical-align: middle;\n",
       "    }\n",
       "\n",
       "    .dataframe tbody tr th {\n",
       "        vertical-align: top;\n",
       "    }\n",
       "\n",
       "    .dataframe thead th {\n",
       "        text-align: right;\n",
       "    }\n",
       "</style>\n",
       "<table border=\"1\" class=\"dataframe\">\n",
       "  <thead>\n",
       "    <tr style=\"text-align: right;\">\n",
       "      <th></th>\n",
       "      <th>uniqueid</th>\n",
       "      <th>fullname</th>\n",
       "      <th>gender</th>\n",
       "      <th>dob</th>\n",
       "      <th>party</th>\n",
       "      <th>stateabr</th>\n",
       "      <th>district</th>\n",
       "      <th>CongressSession</th>\n",
       "      <th>AgeWhenSessionStarted</th>\n",
       "      <th>sessionstartedon</th>\n",
       "      <th>sessionendedon</th>\n",
       "      <th>twitterhandle</th>\n",
       "      <th>joinedon</th>\n",
       "      <th>AgeWhenTwitterJoined</th>\n",
       "      <th>yearjoinedontwitter</th>\n",
       "    </tr>\n",
       "  </thead>\n",
       "  <tbody>\n",
       "    <tr>\n",
       "      <th>444</th>\n",
       "      <td>McP-NC10</td>\n",
       "      <td>McHenry, Patrick T.</td>\n",
       "      <td>0</td>\n",
       "      <td>1975-11-22</td>\n",
       "      <td>0</td>\n",
       "      <td>NC</td>\n",
       "      <td>10</td>\n",
       "      <td>110</td>\n",
       "      <td>31</td>\n",
       "      <td>2007-01-03</td>\n",
       "      <td>2009-01-03</td>\n",
       "      <td>PatrickMcHenry</td>\n",
       "      <td>2009-03-01</td>\n",
       "      <td>33.0</td>\n",
       "      <td>2009.0</td>\n",
       "    </tr>\n",
       "    <tr>\n",
       "      <th>445</th>\n",
       "      <td>PuA-FL12</td>\n",
       "      <td>Putnam, Adam H.</td>\n",
       "      <td>0</td>\n",
       "      <td>1974-07-31</td>\n",
       "      <td>0</td>\n",
       "      <td>FL</td>\n",
       "      <td>12</td>\n",
       "      <td>110</td>\n",
       "      <td>32</td>\n",
       "      <td>2007-01-03</td>\n",
       "      <td>2009-01-03</td>\n",
       "      <td>adamputnam</td>\n",
       "      <td>2009-06-01</td>\n",
       "      <td>34.0</td>\n",
       "      <td>2009.0</td>\n",
       "    </tr>\n",
       "    <tr>\n",
       "      <th>446</th>\n",
       "      <td>CaA-IN07</td>\n",
       "      <td>Carson, Andre</td>\n",
       "      <td>0</td>\n",
       "      <td>1974-10-16</td>\n",
       "      <td>1</td>\n",
       "      <td>IN</td>\n",
       "      <td>7</td>\n",
       "      <td>110</td>\n",
       "      <td>32</td>\n",
       "      <td>2007-01-03</td>\n",
       "      <td>2009-01-03</td>\n",
       "      <td>RepAndreCarson</td>\n",
       "      <td>2010-10-01</td>\n",
       "      <td>35.0</td>\n",
       "      <td>2010.0</td>\n",
       "    </tr>\n",
       "    <tr>\n",
       "      <th>447</th>\n",
       "      <td>MuC-CT05</td>\n",
       "      <td>Murphy, Christopher</td>\n",
       "      <td>0</td>\n",
       "      <td>1973-08-03</td>\n",
       "      <td>1</td>\n",
       "      <td>CT</td>\n",
       "      <td>5</td>\n",
       "      <td>110</td>\n",
       "      <td>33</td>\n",
       "      <td>2007-01-03</td>\n",
       "      <td>2009-01-03</td>\n",
       "      <td>ChrisMurphyCT</td>\n",
       "      <td>2010-05-01</td>\n",
       "      <td>36.0</td>\n",
       "      <td>2010.0</td>\n",
       "    </tr>\n",
       "    <tr>\n",
       "      <th>448</th>\n",
       "      <td>RyT-OH13</td>\n",
       "      <td>Ryan, Tim</td>\n",
       "      <td>0</td>\n",
       "      <td>1973-07-16</td>\n",
       "      <td>1</td>\n",
       "      <td>OH</td>\n",
       "      <td>13</td>\n",
       "      <td>110</td>\n",
       "      <td>33</td>\n",
       "      <td>2007-01-03</td>\n",
       "      <td>2009-01-03</td>\n",
       "      <td>RepTimRyan</td>\n",
       "      <td>2008-02-01</td>\n",
       "      <td>34.0</td>\n",
       "      <td>2008.0</td>\n",
       "    </tr>\n",
       "    <tr>\n",
       "      <th>...</th>\n",
       "      <td>...</td>\n",
       "      <td>...</td>\n",
       "      <td>...</td>\n",
       "      <td>...</td>\n",
       "      <td>...</td>\n",
       "      <td>...</td>\n",
       "      <td>...</td>\n",
       "      <td>...</td>\n",
       "      <td>...</td>\n",
       "      <td>...</td>\n",
       "      <td>...</td>\n",
       "      <td>...</td>\n",
       "      <td>...</td>\n",
       "      <td>...</td>\n",
       "      <td>...</td>\n",
       "    </tr>\n",
       "    <tr>\n",
       "      <th>884</th>\n",
       "      <td>LaT-CA12</td>\n",
       "      <td>Lantos, Tom</td>\n",
       "      <td>0</td>\n",
       "      <td>1928-02-01</td>\n",
       "      <td>1</td>\n",
       "      <td>CA</td>\n",
       "      <td>12</td>\n",
       "      <td>110</td>\n",
       "      <td>78</td>\n",
       "      <td>2007-01-03</td>\n",
       "      <td>2009-01-03</td>\n",
       "      <td>NaN</td>\n",
       "      <td>NaN</td>\n",
       "      <td>NaN</td>\n",
       "      <td>NaN</td>\n",
       "    </tr>\n",
       "    <tr>\n",
       "      <th>885</th>\n",
       "      <td>DiJ-MI12</td>\n",
       "      <td>Dingell, John D.</td>\n",
       "      <td>0</td>\n",
       "      <td>1926-07-08</td>\n",
       "      <td>1</td>\n",
       "      <td>MI</td>\n",
       "      <td>12</td>\n",
       "      <td>110</td>\n",
       "      <td>80</td>\n",
       "      <td>2007-01-03</td>\n",
       "      <td>2009-01-03</td>\n",
       "      <td>JohnDingell</td>\n",
       "      <td>2010-01-01</td>\n",
       "      <td>83.0</td>\n",
       "      <td>2010.0</td>\n",
       "    </tr>\n",
       "    <tr>\n",
       "      <th>886</th>\n",
       "      <td>BaR-MD06</td>\n",
       "      <td>Bartlett, Roscoe G.</td>\n",
       "      <td>0</td>\n",
       "      <td>1926-06-03</td>\n",
       "      <td>0</td>\n",
       "      <td>MD</td>\n",
       "      <td>6</td>\n",
       "      <td>110</td>\n",
       "      <td>80</td>\n",
       "      <td>2007-01-03</td>\n",
       "      <td>2009-01-03</td>\n",
       "      <td>Roscoe_Bartlett</td>\n",
       "      <td>2011-12-01</td>\n",
       "      <td>85.0</td>\n",
       "      <td>2011.0</td>\n",
       "    </tr>\n",
       "    <tr>\n",
       "      <th>887</th>\n",
       "      <td>ReR-OH16</td>\n",
       "      <td>Regula, Ralph</td>\n",
       "      <td>0</td>\n",
       "      <td>1924-12-03</td>\n",
       "      <td>0</td>\n",
       "      <td>OH</td>\n",
       "      <td>16</td>\n",
       "      <td>110</td>\n",
       "      <td>82</td>\n",
       "      <td>2007-01-03</td>\n",
       "      <td>2009-01-03</td>\n",
       "      <td>NaN</td>\n",
       "      <td>NaN</td>\n",
       "      <td>NaN</td>\n",
       "      <td>NaN</td>\n",
       "    </tr>\n",
       "    <tr>\n",
       "      <th>888</th>\n",
       "      <td>HaR-TX04</td>\n",
       "      <td>Hall, Ralph M.</td>\n",
       "      <td>0</td>\n",
       "      <td>1923-05-03</td>\n",
       "      <td>0</td>\n",
       "      <td>TX</td>\n",
       "      <td>4</td>\n",
       "      <td>110</td>\n",
       "      <td>83</td>\n",
       "      <td>2007-01-03</td>\n",
       "      <td>2009-01-03</td>\n",
       "      <td>RalphHallPress</td>\n",
       "      <td>2013-02-01</td>\n",
       "      <td>89.0</td>\n",
       "      <td>2013.0</td>\n",
       "    </tr>\n",
       "  </tbody>\n",
       "</table>\n",
       "<p>445 rows × 15 columns</p>\n",
       "</div>"
      ],
      "text/plain": [
       "     uniqueid             fullname  gender         dob  party stateabr  \\\n",
       "444  McP-NC10  McHenry, Patrick T.       0  1975-11-22      0       NC   \n",
       "445  PuA-FL12      Putnam, Adam H.       0  1974-07-31      0       FL   \n",
       "446  CaA-IN07        Carson, Andre       0  1974-10-16      1       IN   \n",
       "447  MuC-CT05  Murphy, Christopher       0  1973-08-03      1       CT   \n",
       "448  RyT-OH13            Ryan, Tim       0  1973-07-16      1       OH   \n",
       "..        ...                  ...     ...         ...    ...      ...   \n",
       "884  LaT-CA12          Lantos, Tom       0  1928-02-01      1       CA   \n",
       "885  DiJ-MI12     Dingell, John D.       0  1926-07-08      1       MI   \n",
       "886  BaR-MD06  Bartlett, Roscoe G.       0  1926-06-03      0       MD   \n",
       "887  ReR-OH16        Regula, Ralph       0  1924-12-03      0       OH   \n",
       "888  HaR-TX04       Hall, Ralph M.       0  1923-05-03      0       TX   \n",
       "\n",
       "     district  CongressSession  AgeWhenSessionStarted sessionstartedon  \\\n",
       "444        10              110                     31       2007-01-03   \n",
       "445        12              110                     32       2007-01-03   \n",
       "446         7              110                     32       2007-01-03   \n",
       "447         5              110                     33       2007-01-03   \n",
       "448        13              110                     33       2007-01-03   \n",
       "..        ...              ...                    ...              ...   \n",
       "884        12              110                     78       2007-01-03   \n",
       "885        12              110                     80       2007-01-03   \n",
       "886         6              110                     80       2007-01-03   \n",
       "887        16              110                     82       2007-01-03   \n",
       "888         4              110                     83       2007-01-03   \n",
       "\n",
       "    sessionendedon    twitterhandle    joinedon  AgeWhenTwitterJoined  \\\n",
       "444     2009-01-03   PatrickMcHenry  2009-03-01                  33.0   \n",
       "445     2009-01-03       adamputnam  2009-06-01                  34.0   \n",
       "446     2009-01-03   RepAndreCarson  2010-10-01                  35.0   \n",
       "447     2009-01-03    ChrisMurphyCT  2010-05-01                  36.0   \n",
       "448     2009-01-03       RepTimRyan  2008-02-01                  34.0   \n",
       "..             ...              ...         ...                   ...   \n",
       "884     2009-01-03              NaN         NaN                   NaN   \n",
       "885     2009-01-03      JohnDingell  2010-01-01                  83.0   \n",
       "886     2009-01-03  Roscoe_Bartlett  2011-12-01                  85.0   \n",
       "887     2009-01-03              NaN         NaN                   NaN   \n",
       "888     2009-01-03   RalphHallPress  2013-02-01                  89.0   \n",
       "\n",
       "     yearjoinedontwitter  \n",
       "444               2009.0  \n",
       "445               2009.0  \n",
       "446               2010.0  \n",
       "447               2010.0  \n",
       "448               2008.0  \n",
       "..                   ...  \n",
       "884                  NaN  \n",
       "885               2010.0  \n",
       "886               2011.0  \n",
       "887                  NaN  \n",
       "888               2013.0  \n",
       "\n",
       "[445 rows x 15 columns]"
      ]
     },
     "execution_count": 22,
     "metadata": {},
     "output_type": "execute_result"
    }
   ],
   "source": [
    "c110rawdf"
   ]
  },
  {
   "cell_type": "code",
   "execution_count": null,
   "id": "7adbf725",
   "metadata": {},
   "outputs": [],
   "source": []
  }
 ],
 "metadata": {
  "kernelspec": {
   "display_name": "mlenv",
   "language": "python",
   "name": "mlenv"
  },
  "language_info": {
   "codemirror_mode": {
    "name": "ipython",
    "version": 3
   },
   "file_extension": ".py",
   "mimetype": "text/x-python",
   "name": "python",
   "nbconvert_exporter": "python",
   "pygments_lexer": "ipython3",
   "version": "3.7.13"
  }
 },
 "nbformat": 4,
 "nbformat_minor": 5
}
